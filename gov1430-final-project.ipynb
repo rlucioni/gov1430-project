{
 "metadata": {
  "name": ""
 },
 "nbformat": 3,
 "nbformat_minor": 0,
 "worksheets": [
  {
   "cells": [
    {
     "cell_type": "markdown",
     "metadata": {},
     "source": [
      "# The Illusion of Privacy on Reddit #\n",
      "\n",
      "### *Renzo Lucioni and R.J. Aquino* ###\n",
      "\n",
      "<div align=\"center\">\n",
      "<img src=\"http://www.redditstatic.com/about/assets/reddit-alien.png\" height=\"524\" width=\"236\">\n",
      "</div>"
     ]
    },
    {
     "cell_type": "markdown",
     "metadata": {},
     "source": [
      "## Table of Contents ##\n",
      "\n",
      "* [Abstract](#Abstract)\n",
      "* [Introduction](#Introduction)\n",
      "* [Methods](#Methods)\n",
      "* [Results](#Results)\n",
      "* [Discussion](#Discussion)\n",
      "* [References](#References)\n"
     ]
    },
    {
     "cell_type": "heading",
     "level": 2,
     "metadata": {},
     "source": [
      "Abstract"
     ]
    },
    {
     "cell_type": "markdown",
     "metadata": {},
     "source": [
      "The goal of this project was to explore privacy on Reddit, the popular social news and entertainment website. On Reddit, users register under a pseudonym, submit content primarily in the form of links, and make text comments on content submitted by others. We set out to harvest personally identifying information from a collection of 15 million comments posted to Reddit between August 28 and September 12. We succeeded in finding hundreds of Reddit users\u2019 Facebook profiles, Twitter handles, email addresses, phone numbers, and ZIP codes. This information allowed us to identify dozens of Redditors with a high degree of confidence. These results demonstrate that the notion of privacy on Reddit is an illusion for many users. Creating a truly anonymous environment on Reddit would require measures preventing users from posting this kind of information. However, such changes would be in direct opposition to the way the community on Reddit behaves."
     ]
    },
    {
     "cell_type": "heading",
     "level": 2,
     "metadata": {},
     "source": [
      "Introduction"
     ]
    },
    {
     "cell_type": "markdown",
     "metadata": {},
     "source": [
      "For many, Reddit is a website that users browse anonymously, often employing their usernames as pseudonyms. In their Privacy Policy, Reddit states that \u201cwe will only share your personal data with your consent.\u201d For these reasons, it is reasonable for Reddit users to expect that their personal information is indeed private, and that their \u201creal world\u201d data (e.g., name, date of birth, phone number) is not connected to their \u201cdigital\u201d data (i.e., their Reddit username and content). We intend to demonstrate that a number of Reddit users have, either on purpose or accidentally, revealed identifying information, and that the information they have revealed can be tied back to a real identity.\n",
      "Many Reddit users publish phone numbers, email addresses, Twitter handles, and Facebook profiles. This information can sometimes be used to automatically generate an identity, and can often be combined with some additional sleuthing to reveal more personal information. \n",
      "\n",
      "Our project consists of two parts. In the first part, we search a dump of 15 million Reddit comments searching for personally identifying information. In the second part, we attempt to identify specific users based on the personal information we found in their comments."
     ]
    },
    {
     "cell_type": "heading",
     "level": 2,
     "metadata": {},
     "source": [
      "Methods"
     ]
    },
    {
     "cell_type": "markdown",
     "metadata": {},
     "source": [
      "We used a dump of 15 million comments posted to Reddit between August 28 and September 12, cited in the [References](#References). Using the Python code we wrote below, we combed the comments for keywords and different kinds of personally identifying information. First, we had to perform imports and other setup."
     ]
    },
    {
     "cell_type": "code",
     "collapsed": false,
     "input": [
      "# special IPython command to prepare the notebook for matplotlib\n",
      "%matplotlib inline \n",
      "\n",
      "# we might not use all of these\n",
      "from fnmatch import fnmatch\n",
      "\n",
      "import numpy as np\n",
      "import pandas as pd\n",
      "import matplotlib.pyplot as plt\n",
      "import requests\n",
      "import pickle\n",
      "from pattern import web\n",
      "import json\n",
      "import re\n",
      "import sys\n",
      "import datetime as dt\n",
      "import operator\n",
      "import collections\n",
      "import sys\n",
      "import linecache\n",
      "\n",
      "# set some nicer defaults for matplotlib\n",
      "from matplotlib import rcParams\n",
      "\n",
      "#these colors come from colorbrewer2.org. Each is an RGB triplet\n",
      "dark2_colors = [(0.10588235294117647, 0.6196078431372549, 0.4666666666666667),\n",
      "                (0.8509803921568627, 0.37254901960784315, 0.00784313725490196),\n",
      "                (0.4588235294117647, 0.4392156862745098, 0.7019607843137254),\n",
      "                (0.9058823529411765, 0.1607843137254902, 0.5411764705882353),\n",
      "                (0.4, 0.6509803921568628, 0.11764705882352941),\n",
      "                (0.9019607843137255, 0.6705882352941176, 0.00784313725490196),\n",
      "                (0.6509803921568628, 0.4627450980392157, 0.11372549019607843),\n",
      "                (0.4, 0.4, 0.4)]\n",
      "\n",
      "rcParams['figure.figsize'] = (10, 6)\n",
      "rcParams['figure.dpi'] = 150\n",
      "rcParams['axes.color_cycle'] = dark2_colors\n",
      "rcParams['lines.linewidth'] = 2\n",
      "rcParams['axes.grid'] = False\n",
      "rcParams['axes.facecolor'] = 'white'\n",
      "rcParams['font.size'] = 14\n",
      "rcParams['patch.edgecolor'] = 'none'\n",
      "\n",
      "def remove_border(axes=None, top=False, right=False, left=True, bottom=True):\n",
      "    \"\"\"\n",
      "    Minimize chartjunk by stripping out unnecessary plot borders and axis ticks\n",
      "    \n",
      "    The top/right/left/bottom keywords toggle whether the corresponding plot border is drawn\n",
      "    \"\"\"\n",
      "    ax = axes or plt.gca()\n",
      "    ax.spines['top'].set_visible(top)\n",
      "    ax.spines['right'].set_visible(right)\n",
      "    ax.spines['left'].set_visible(left)\n",
      "    ax.spines['bottom'].set_visible(bottom)\n",
      "    \n",
      "    #turn off all ticks\n",
      "    ax.yaxis.set_ticks_position('none')\n",
      "    ax.xaxis.set_ticks_position('none')\n",
      "    \n",
      "    #now re-enable visibles\n",
      "    if top:\n",
      "        ax.xaxis.tick_top()\n",
      "    if bottom:\n",
      "        ax.xaxis.tick_bottom()\n",
      "    if left:\n",
      "        ax.yaxis.tick_left()\n",
      "    if right:\n",
      "        ax.yaxis.tick_right()\n"
     ],
     "language": "python",
     "metadata": {},
     "outputs": [],
     "prompt_number": 1
    },
    {
     "cell_type": "markdown",
     "metadata": {},
     "source": [
      "This list of common English stop words defines words which should be ignored when performing a word count."
     ]
    },
    {
     "cell_type": "code",
     "collapsed": false,
     "input": [
      "# common English stop words\n",
      "stop_words = \"\"\"\n",
      "a\n",
      "about\n",
      "above\n",
      "after\n",
      "again\n",
      "against\n",
      "all\n",
      "am\n",
      "an\n",
      "and\n",
      "any\n",
      "are\n",
      "aren't\n",
      "as\n",
      "at\n",
      "be\n",
      "because\n",
      "been\n",
      "before\n",
      "being\n",
      "below\n",
      "between\n",
      "both\n",
      "but\n",
      "by\n",
      "can't\n",
      "cannot\n",
      "could\n",
      "couldn't\n",
      "did\n",
      "didn't\n",
      "do\n",
      "does\n",
      "doesn't\n",
      "doing\n",
      "don't\n",
      "down\n",
      "during\n",
      "each\n",
      "few\n",
      "for\n",
      "from\n",
      "further\n",
      "had\n",
      "hadn't\n",
      "has\n",
      "hasn't\n",
      "have\n",
      "haven't\n",
      "having\n",
      "he\n",
      "he'd\n",
      "he'll\n",
      "he's\n",
      "her\n",
      "here\n",
      "here's\n",
      "hers\n",
      "herself\n",
      "him\n",
      "himself\n",
      "his\n",
      "how\n",
      "how's\n",
      "i\n",
      "i'd\n",
      "i'll\n",
      "i'm\n",
      "i've\n",
      "if\n",
      "in\n",
      "into\n",
      "is\n",
      "isn't\n",
      "it\n",
      "it's\n",
      "its\n",
      "itself\n",
      "let's\n",
      "me\n",
      "more\n",
      "most\n",
      "mustn't\n",
      "my\n",
      "myself\n",
      "no\n",
      "nor\n",
      "not\n",
      "of\n",
      "off\n",
      "on\n",
      "once\n",
      "only\n",
      "or\n",
      "other\n",
      "ought\n",
      "our\n",
      "ours \n",
      "ourselves\n",
      "out\n",
      "over\n",
      "own\n",
      "same\n",
      "shan't\n",
      "she\n",
      "she'd\n",
      "she'll\n",
      "she's\n",
      "should\n",
      "shouldn't\n",
      "so\n",
      "some\n",
      "such\n",
      "than\n",
      "that\n",
      "that's\n",
      "the\n",
      "their\n",
      "theirs\n",
      "them\n",
      "themselves\n",
      "then\n",
      "there\n",
      "there's\n",
      "these\n",
      "they\n",
      "they'd\n",
      "they'll\n",
      "they're\n",
      "they've\n",
      "this\n",
      "those\n",
      "through\n",
      "to\n",
      "too\n",
      "under\n",
      "until\n",
      "up\n",
      "very\n",
      "was\n",
      "wasn't\n",
      "we\n",
      "we'd\n",
      "we'll\n",
      "we're\n",
      "we've\n",
      "were\n",
      "weren't\n",
      "what\n",
      "what's\n",
      "when\n",
      "when's\n",
      "where\n",
      "where's\n",
      "which\n",
      "while\n",
      "who\n",
      "who's\n",
      "whom\n",
      "why\n",
      "why's\n",
      "with\n",
      "won't\n",
      "would\n",
      "wouldn't\n",
      "you\n",
      "you'd\n",
      "you'll\n",
      "you're\n",
      "you've\n",
      "your\n",
      "yours\n",
      "yourself\n",
      "yourselves\n",
      "\"\"\"\n",
      "\n",
      "stop_words = stop_words.split()\n",
      "print stop_words"
     ],
     "language": "python",
     "metadata": {},
     "outputs": [
      {
       "output_type": "stream",
       "stream": "stdout",
       "text": [
        "['a', 'about', 'above', 'after', 'again', 'against', 'all', 'am', 'an', 'and', 'any', 'are', \"aren't\", 'as', 'at', 'be', 'because', 'been', 'before', 'being', 'below', 'between', 'both', 'but', 'by', \"can't\", 'cannot', 'could', \"couldn't\", 'did', \"didn't\", 'do', 'does', \"doesn't\", 'doing', \"don't\", 'down', 'during', 'each', 'few', 'for', 'from', 'further', 'had', \"hadn't\", 'has', \"hasn't\", 'have', \"haven't\", 'having', 'he', \"he'd\", \"he'll\", \"he's\", 'her', 'here', \"here's\", 'hers', 'herself', 'him', 'himself', 'his', 'how', \"how's\", 'i', \"i'd\", \"i'll\", \"i'm\", \"i've\", 'if', 'in', 'into', 'is', \"isn't\", 'it', \"it's\", 'its', 'itself', \"let's\", 'me', 'more', 'most', \"mustn't\", 'my', 'myself', 'no', 'nor', 'not', 'of', 'off', 'on', 'once', 'only', 'or', 'other', 'ought', 'our', 'ours', 'ourselves', 'out', 'over', 'own', 'same', \"shan't\", 'she', \"she'd\", \"she'll\", \"she's\", 'should', \"shouldn't\", 'so', 'some', 'such', 'than', 'that', \"that's\", 'the', 'their', 'theirs', 'them', 'themselves', 'then', 'there', \"there's\", 'these', 'they', \"they'd\", \"they'll\", \"they're\", \"they've\", 'this', 'those', 'through', 'to', 'too', 'under', 'until', 'up', 'very', 'was', \"wasn't\", 'we', \"we'd\", \"we'll\", \"we're\", \"we've\", 'were', \"weren't\", 'what', \"what's\", 'when', \"when's\", 'where', \"where's\", 'which', 'while', 'who', \"who's\", 'whom', 'why', \"why's\", 'with', \"won't\", 'would', \"wouldn't\", 'you', \"you'd\", \"you'll\", \"you're\", \"you've\", 'your', 'yours', 'yourself', 'yourselves']\n"
       ]
      }
     ],
     "prompt_number": 2
    },
    {
     "cell_type": "markdown",
     "metadata": {},
     "source": [
      "We double-checked that we were in fact working with 15 million comments."
     ]
    },
    {
     "cell_type": "code",
     "collapsed": false,
     "input": [
      "# how many comments are we actually dealing with?\n",
      "f = open('dedupped-1-comment-per-line.json')\n",
      "count = 0\n",
      "# dump is too big to read into memory, so we're using an iterator \n",
      "for line in f:\n",
      "    count += 1\n",
      "    \n",
      "print count"
     ],
     "language": "python",
     "metadata": {},
     "outputs": [
      {
       "output_type": "stream",
       "stream": "stdout",
       "text": [
        "15505576\n"
       ]
      }
     ],
     "prompt_number": 44
    },
    {
     "cell_type": "markdown",
     "metadata": {},
     "source": [
      "We are dealing with exactly 15,505,576 unique comments."
     ]
    },
    {
     "cell_type": "markdown",
     "metadata": {},
     "source": [
      "The comment dump extracts to a file more than 40 GB in size. This is too large to be read into memory, so we needed a way to work with subsets of the data. For this purpose, we wrote the function `sample`."
     ]
    },
    {
     "cell_type": "code",
     "collapsed": false,
     "input": [
      "def sample(comment_count, start=0, progress=None):\n",
      "    \"Sample the comment dump. Passed an int, returns that many comments as a list of dicts.\"\n",
      "    # open uncompressed September 2013 Reddit comment dump\n",
      "    f = open('dedupped-1-comment-per-line.json')\n",
      "    count = 0\n",
      "    comments = []\n",
      "    idx = 0\n",
      "    # dump is too big to read into memory, so we're using an iterator \n",
      "    for line in f:\n",
      "        if idx < start:\n",
      "            idx += 1\n",
      "            if progress is not None and idx % progress == 0:\n",
      "                print \"idx: {}\".format(idx)\n",
      "            continue\n",
      "\n",
      "        if count < comment_count:\n",
      "            comments.append(json.loads(line))\n",
      "            count += 1\n",
      "            if progress is not None and count % progress == 0:\n",
      "                print count\n",
      "                sys.stdout.flush()\n",
      "        else:\n",
      "            break\n",
      "    \n",
      "    return comments"
     ],
     "language": "python",
     "metadata": {},
     "outputs": [],
     "prompt_number": 3
    },
    {
     "cell_type": "markdown",
     "metadata": {},
     "source": [
      "Below is a single sample comment, representative of the data we searched through."
     ]
    },
    {
     "cell_type": "code",
     "collapsed": false,
     "input": [
      "sample(1)\n"
     ],
     "language": "python",
     "metadata": {},
     "outputs": [
      {
       "metadata": {},
       "output_type": "pyout",
       "prompt_number": 21,
       "text": [
        "[{u'approved_by': None,\n",
        "  u'author': u'Hasaan5',\n",
        "  u'author_flair_css_class': u'other-quest',\n",
        "  u'author_flair_text': u'Do you even quest, bro? [Scaper since 2004] (I still hate suomi)',\n",
        "  u'banned_by': None,\n",
        "  u'body': u\"And then people will complain that it isn't exactly like the old one. They will never win over this.\",\n",
        "  u'body_html': u'&lt;div class=\"md\"&gt;&lt;p&gt;And then people will complain that it isn&amp;#39;t exactly like the old one. They will never win over this.&lt;/p&gt;\\n&lt;/div&gt;',\n",
        "  u'created': 1377723538.0,\n",
        "  u'created_utc': 1377694738.0,\n",
        "  u'distinguished': None,\n",
        "  u'downs': 0,\n",
        "  u'edited': False,\n",
        "  u'gilded': 0,\n",
        "  u'id': u'cbwxtsz',\n",
        "  u'likes': None,\n",
        "  u'link_id': u't3_1l8m7k',\n",
        "  u'link_title': u'Old-school overrides (suggestion)',\n",
        "  u'name': u't1_cbwxtsz',\n",
        "  u'num_reports': None,\n",
        "  u'parent_id': u't1_cbwx93k',\n",
        "  u'replies': None,\n",
        "  u'score_hidden': True,\n",
        "  u'subreddit': u'runescape',\n",
        "  u'subreddit_id': u't5_2qwxl',\n",
        "  u'ups': 1}]"
       ]
      }
     ],
     "prompt_number": 21
    },
    {
     "cell_type": "markdown",
     "metadata": {},
     "source": [
      "We wanted to know which subreddits were best represented in these comments. The code below serves this purpose."
     ]
    },
    {
     "cell_type": "code",
     "collapsed": false,
     "input": [
      "def profile_comments(comments, metric):\n",
      "    \"Returns a dictionary with counts given a metric and a sample of comments.\"\n",
      "    items = {}\n",
      "    for comment in comments:\n",
      "        item = comment[metric]\n",
      "        if item in items.keys():\n",
      "            items[item] += 1\n",
      "        else:\n",
      "            items[item] = 1\n",
      "    \n",
      "    return items\n"
     ],
     "language": "python",
     "metadata": {},
     "outputs": [],
     "prompt_number": 4
    },
    {
     "cell_type": "code",
     "collapsed": false,
     "input": [
      "def visualize(title, item_count_dict, bar_color=dark2_colors[0], subplot=111,set_size=True, offX = 1000, offY = .5):\n",
      "    \"Visualize sorted item and count data with a horizontal bar graph. Takes an item/count dict.\"\n",
      "    \n",
      "    # sort\n",
      "    items_counts_tuples = zip(item_count_dict.keys(), item_count_dict.values())\n",
      "\n",
      "    get_count = operator.itemgetter(1)\n",
      "    items_counts_tuples = sorted(items_counts_tuples, key=get_count, reverse=True)\n",
      "    \n",
      "    items, counts = [], []\n",
      "    for item, count in items_counts_tuples:\n",
      "        items.append(item)\n",
      "        counts.append(count)\n",
      "    \n",
      "    # plot\n",
      "    pos = np.arange(len(items))\n",
      "    \n",
      "    if str(subplot)[2] == '1' and set_size:\n",
      "        plt.figure(figsize=(10, len(items)/3))\n",
      "    \n",
      "    plt.subplot(subplot)\n",
      "    \n",
      "    plt.title(title)\n",
      "    plt.barh(pos, counts, color=bar_color)\n",
      "    \n",
      "    # add the numbers to the side of each bar\n",
      "    for p, item, count in zip(pos, items, counts):\n",
      "            plt.annotate(str(count), xy=(count + offX, p + offY), va='center')\n",
      "    \n",
      "    # customize ticks\n",
      "    ticks = plt.yticks(pos + .5, items)\n",
      "    xt = plt.xticks()[0]\n",
      "    plt.xticks(xt, [' '] * len(xt))\n",
      "    \n",
      "    # minimize chartjunk\n",
      "    remove_border(left=False, bottom=False)\n",
      "    plt.grid(axis = 'x', color ='white', linestyle='-')\n",
      "    \n",
      "    # set plot limits\n",
      "    if set_size:\n",
      "        plt.ylim(pos.max() + 1, pos.min())\n",
      "#     plt.xlim(0, xmax)\n",
      "    \n",
      "        plt.tight_layout()\n",
      "    plt.show()"
     ],
     "language": "python",
     "metadata": {},
     "outputs": [],
     "prompt_number": 13
    },
    {
     "cell_type": "markdown",
     "metadata": {},
     "source": [
      "We assessed the quality and quantity of personally identifying information in these 15 million comments as follows. We first searched for personally identifying information in these 15 million comments at various levels of specificity. First, we searched for four keywords in the comment bodies: \"email\", \"birthday\", \"zip\", and \"address.\" With the help of regular expressions, we then searched for actual information, in particular email addresses and phone numbers. We also looked for social networking information, using regular expressions to search for comments containing general Facebook URLs and Facebook profile URLs of the form facebook.com/profile.php?id=.\n",
      "\n",
      "For the second part of our project, we considered only those comments returned by the aformentioned searches and refined our methods, searching for personally identifying words like \u201cmy,\u201d \u201cpersonal,\u201d \u201cwork,\u201d \u201cprivate,\u201d \u201cbrother,\" and \u201csister.\" Using this filtered list of comments, we tried to identify particular users by aggregating all the information we had gathered on this user from their comments. The Facebook profile URLs alone were likely to identify a user, but we also considered phone numbers and email addresses.\n",
      "\n",
      "We used to code below to perform the procedures described above."
     ]
    },
    {
     "cell_type": "code",
     "collapsed": false,
     "input": [
      "# comment keyword search\n",
      "import time\n",
      "\n",
      "def keyword_search(sample_size, keywords, start=0, progress=None):\n",
      "    \"Keywords is a list!\"\n",
      "    keyword_dict = dict((k,[]) for k in keywords)\n",
      "    field = 'body'\n",
      "    sample_start = time.time()\n",
      "    comments = sample(sample_size)\n",
      "    sample_end = time.time()\n",
      "    build_start = time.time()\n",
      "    for comment in comments:\n",
      "        words = re.findall(r'\\w+\\S*\\w+|\\w', comment['body'].lower())\n",
      "        for word in words:\n",
      "            if word in keywords:\n",
      "                keyword_dict[word].append(comment[field])\n",
      "    build_end = time.time()\n",
      "    \n",
      "    print \"Sampling time: {}; run time: {}\".format(sample_end - sample_start, build_end - build_start)\n",
      "                \n",
      "    for k,v in keyword_dict.iteritems():\n",
      "        print \"{}: {}\".format(k, len(v))\n",
      "        \n",
      "    return keyword_dict\n"
     ],
     "language": "python",
     "metadata": {},
     "outputs": [],
     "prompt_number": 6
    },
    {
     "cell_type": "code",
     "collapsed": false,
     "input": [
      "# search for older Facebook profile URLs; see below function for preferred search\n",
      "def facebook_profile_search(sample_size, start=0, progress=None):\n",
      "\n",
      "    comments = sample(sample_size, start=start, progress=progress)\n",
      "    profile_comments = []\n",
      "    for comment in comments:\n",
      "        if \"facebook.com/profile.php\" in comment['body'].lower():\n",
      "            profile_comments.append(comment)\n",
      "    print \"Found {} comments containing a Facebook Profile URL\".format(len(fb_comments))\n",
      "    \n",
      "    return profile_comments\n"
     ],
     "language": "python",
     "metadata": {},
     "outputs": [],
     "prompt_number": 8
    },
    {
     "cell_type": "code",
     "collapsed": false,
     "input": [
      "def facebook_search(sample_size, start=0, progress=None):\n",
      "    comments = sample(sample_size, start=start, progress=progress)\n",
      "    \n",
      "    fb_comments = []\n",
      "    for comment in comments:\n",
      "        if \"facebook.com/\" in comment['body'].lower():\n",
      "            fb_comments.append(comment)\n",
      "        \n",
      "    print \"Found {} comments containing a Facebook URL\".format(len(fb_comments))\n",
      "    \n",
      "    return fb_comments"
     ],
     "language": "python",
     "metadata": {},
     "outputs": [],
     "prompt_number": 9
    },
    {
     "cell_type": "code",
     "collapsed": false,
     "input": [
      "# heuristic for checking if a comment has the phrase zip code\n",
      "# for text in keyword_dict['zip']:\n",
      "#     if 'code' in re.findall(r'\\w+\\S*\\w+|\\w', text.lower()):\n",
      "#         print text"
     ],
     "language": "python",
     "metadata": {},
     "outputs": [],
     "prompt_number": 3
    },
    {
     "cell_type": "code",
     "collapsed": false,
     "input": [
      "def email_twitter_search(sample_size, start=0, progress=None):\n",
      "    comments = sample(sample_size, start=start, progress=progress)\n",
      "\n",
      "    at_comments = []\n",
      "    print \"Searching for email addresses and Twitter handles in {} comments, beginning at index {}.\".format(sample_size, start)\n",
      "    for comment in comments:\n",
      "        words = re.findall(r'\\S*@\\S+', comment['body'].lower())\n",
      "        if len(words) > 0:\n",
      "            at_comments.append(comment)\n",
      "#             print words\n",
      "            \n",
      "    print \"Found {} comments containing an email or Twitter handle\".format(len(at_comments))\n",
      "    \n",
      "    return at_comments\n"
     ],
     "language": "python",
     "metadata": {},
     "outputs": [],
     "prompt_number": 10
    },
    {
     "cell_type": "code",
     "collapsed": false,
     "input": [
      "def phone_search(sample_size, start=0, progress=None):\n",
      "    comments = sample(sample_size, start=start, progress=progress)\n",
      "\n",
      "    phone_comments = []\n",
      "    print \"Searching for phone numbers in {} comments, beginning at index {}.\".format(sample_size, start)\n",
      "    for comment in comments:\n",
      "        # phone number regex from http://stackoverflow.com/questions/123559/a-comprehensive-regex-for-phone-number-validation\n",
      "        words = re.findall(r'^(?:(?:\\+?1\\s*(?:[.-]\\s*)?)?(?:\\(\\s*([2-9]1[02-9]|[2-9][02-8]1|[2-9][02-8][02-9])\\s*\\)|([2-9]1[02-9]|[2-9][02-8]1|[2-9][02-8][02-9]))\\s*(?:[.-]\\s*)?)?([2-9]1[02-9]|[2-9][02-9]1|[2-9][02-9]{2})\\s*(?:[.-]\\s*)?([0-9]{4})(?:\\s*(?:#|x\\.?|ext\\.?|extension)\\s*(\\d+))?$', comment['body'].lower())\n",
      "        if len(words) > 0:\n",
      "            phone_comments.append(comment)\n",
      "#             print words\n",
      "            \n",
      "    print \"Found {} comments containing a phone number\".format(len(phone_comments))\n",
      "    \n",
      "    return phone_comments"
     ],
     "language": "python",
     "metadata": {},
     "outputs": [],
     "prompt_number": 11
    },
    {
     "cell_type": "code",
     "collapsed": false,
     "input": [
      "sample_size = 1000000\n",
      "start=0\n",
      "progress=100000\n",
      "email_and_twitter = email_twitter_search(sample_size, start=start, progress=progress)\n",
      "phone = phone_search(sample_size, start=start, progress=progress)\n",
      "profile = facebook_profile_search(sample_size, start=start, progress=progress)\n",
      "fb_comments = facebook_search(sample_size, start=start, progress=progress)\n",
      "\n"
     ],
     "language": "python",
     "metadata": {},
     "outputs": []
    },
    {
     "cell_type": "markdown",
     "metadata": {},
     "source": [
      "The iterative search above is an extraordinarily slow way to search through all 15 million comments, since it requires multiple passes of all 15 million comments. A faster way of searching for the information we want is to conduct a parallelized search, performing all searches in a single pass."
     ]
    },
    {
     "cell_type": "code",
     "collapsed": false,
     "input": [
      "def search(sample_size, conds, keywords, logpath=None, start=0, progress=None):\n",
      "    print \"Sampling...\"\n",
      "    comments = sample(sample_size, start=start, progress=progress)\n",
      "    print \"Searching in {} comments, beginning at index {}.\".format(sample_size, start)\n",
      "\n",
      "    # build dictionary for results\n",
      "#     res_comments = dict((cond[\"name\"],[]) for cond in conds)\n",
      "    \n",
      "    # backup dict for ids for writing (speeds up writes)\n",
      "    res_ids = dict((cond[\"name\"],[]) for cond in conds)\n",
      "    for keyword in keywords:\n",
      "        res_ids[keyword] = []\n",
      "    \n",
      "    # seperate dict for keyword results\n",
      "#     keyword_dict = dict((k,[]) for k in keywords)\n",
      "\n",
      "    # open file for logging\n",
      "    if logpath is not None:\n",
      "        logfile = open(logpath, 'a+')\n",
      "        \n",
      "    # go over each comment (and each function for each comment)\n",
      "    for idx,comment in enumerate(comments):\n",
      "        for cond in conds:\n",
      "            if cond[\"f\"](comment):\n",
      "#                 res_comments[cond[\"name\"]].append(comment)\n",
      "                # add to res_ids for fast writing\n",
      "                res_ids[cond[\"name\"]].append(comment['id'])\n",
      "        \n",
      "        # keyword search (kinda hacked in)\n",
      "        words = re.findall(r'\\w+\\S*\\w+|\\w', comment['body'].lower())\n",
      "        for word in words:\n",
      "            if word in keywords:\n",
      "#                 keyword_dict[word].append(comment)\n",
      "                \n",
      "                # add to res_ids for fast writing (keyword and condition name cannot overlap)\n",
      "                res_ids[word].append(comment['id'])\n",
      "        \n",
      "        # optional progress print\n",
      "        if progress is not None and idx % progress == 0:\n",
      "            print idx\n",
      "            sys.stdout.flush()    \n",
      "            \n",
      "            # log ids\n",
      "            if logfile is not None:\n",
      "                logfile.write(json.dumps(res_ids)+'\\n')\n",
      "    \n",
      "    # print results\n",
      "    for name in res_ids:\n",
      "        if name in keywords:\n",
      "            print \"Found {} comments containing \\\"{}\\\"\".format(len(res_ids[name]), name)\n",
      "        else:\n",
      "            print \"Found {} comments containing a {}\".format(len(res_ids[name]), name)\n",
      "\n",
      "#     res_comments[\"keywords\"] = keyword_dict\n",
      "    \n",
      "    return res_ids"
     ],
     "language": "python",
     "metadata": {},
     "outputs": [],
     "prompt_number": 32
    },
    {
     "cell_type": "code",
     "collapsed": false,
     "input": [
      "def contains_phone(comment):\n",
      "    # phone number regex from http://stackoverflow.com/questions/3868753/find-phone-numbers-in-python-script\n",
      "    words = re.findall(r'\\W(\\d{3}-)?\\d{3}-\\d{4}\\W', comment['body'].lower())\n",
      "    return len(words) > 0\n",
      "\n",
      "def contains_email_twitter(comment):\n",
      "    words = re.findall(r'\\S*@\\S+', comment['body'].lower())\n",
      "    return len(words) > 0\n",
      "\n",
      "def contains_facebook(comment):\n",
      "    return \"facebook.com/\" in comment['body'].lower()\n",
      "\n",
      "def contains_facebook_profile(comment):\n",
      "    return \"facebook.com/profile.php\" in comment['body'].lower()\n",
      "\n"
     ],
     "language": "python",
     "metadata": {},
     "outputs": [],
     "prompt_number": 9
    },
    {
     "cell_type": "code",
     "collapsed": false,
     "input": [
      "test_text = \"this is a phone number 123-719 yeah it is\"\n",
      "test_comment = {\"body\":test_text}\n",
      "contains_phone(test_comment)"
     ],
     "language": "python",
     "metadata": {},
     "outputs": [
      {
       "metadata": {},
       "output_type": "pyout",
       "prompt_number": 14,
       "text": [
        "False"
       ]
      }
     ],
     "prompt_number": 14
    },
    {
     "cell_type": "markdown",
     "metadata": {},
     "source": [
      "Now that we have collected this trove of information, we want to use it to manually identify Reddit users and their personal information. Unfortunately, as we will discuss in our results section, the above methods paint too broad a picture. Too many comments, for instance, mention the word \"birthday\" without revealing personally identifying information. In order to locate actual identifying information, we need to refine our results to maximize the chance that a comment we produce contains information we care about. We can do this by searching through the filtered comments for certain keywords like the word \"my.\" For instance, in the case of birthdays, we can search for the word \"today,\" only producing comments that contain the word \"today\" AND the word \"birthday.\"\n",
      "\n",
      "Finally, viewing the output of these results can be a manual process, looking for comments that definitively reveal personal information. Looking at Facebook URLs in particular, we may be able to learn a user's full identity.\n"
     ]
    },
    {
     "cell_type": "code",
     "collapsed": false,
     "input": [
      "def refine(comments, type, keywords):\n",
      "    result_set = set()\n",
      "    for comment in comments[type]:\n",
      "        for keyword in keywords:\n",
      "            if keyword in comment['body'].lower():\n",
      "                result_set.add(comment['body'])\n",
      "    return result_set"
     ],
     "language": "python",
     "metadata": {},
     "outputs": [],
     "prompt_number": 5
    },
    {
     "cell_type": "heading",
     "level": 2,
     "metadata": {},
     "source": [
      "Results"
     ]
    },
    {
     "cell_type": "markdown",
     "metadata": {},
     "source": [
      "The following is output from the code defined above."
     ]
    },
    {
     "cell_type": "code",
     "collapsed": false,
     "input": [
      "# toggle to find most highly represented subreddits (500k comment sample)\n",
      "# comments = sample(500000)\n",
      "# subreddit_counts = profile_comments(comments, 'subreddit')\n",
      "# truncated_subreddit_counts = {}\n",
      "# for subreddit, count in subreddit_counts.iteritems():\n",
      "#     if count >= 5000:\n",
      "#         truncated_subreddit_counts[subreddit] = count\n",
      "# print truncated_subreddit_counts"
     ],
     "language": "python",
     "metadata": {},
     "outputs": [
      {
       "metadata": {},
       "output_type": "pyout",
       "prompt_number": 54,
       "text": [
        "{u'AdviceAnimals': 15469,\n",
        " u'AskReddit': 53536,\n",
        " u'IAmA': 5945,\n",
        " u'WTF': 10242,\n",
        " u'funny': 14623,\n",
        " u'gaming': 12416,\n",
        " u'leagueoflegends': 10334,\n",
        " u'pics': 11005,\n",
        " u'soccer': 5621,\n",
        " u'todayilearned': 6131,\n",
        " u'worldnews': 8147}"
       ]
      }
     ],
     "prompt_number": 54
    },
    {
     "cell_type": "code",
     "collapsed": false,
     "input": [
      "# toggle to visualize results from above\n",
      "# visualize(\"Subreddit Sample Representation\", truncated_subreddit_counts)"
     ],
     "language": "python",
     "metadata": {},
     "outputs": [
      {
       "metadata": {},
       "output_type": "display_data",
       "png": "[encoded data removed]",
       "text": [
        "<matplotlib.figure.Figure at 0x1602e3b50>"
       ]
      }
     ],
     "prompt_number": 61
    },
    {
     "cell_type": "markdown",
     "metadata": {},
     "source": [
      "As we can see, the comments primarily come from r/AskReddit, a question-and-answer community known for its high comment volume. Comments from AskReddit account for about 11% of comments in our sample. Many comments also come from r/AdviceAnimals and r/funny, each accounting for about 3% of comments. \n",
      "\n",
      "We also wanted to know which words were most commonly used in these comments. The code below serves this purpose."
     ]
    },
    {
     "cell_type": "code",
     "collapsed": false,
     "input": [
      "# toggle to find most common words in comments\n",
      "# comments = sample(2000)\n",
      "# all_comment_text = [comment['body'] for comment in comments]\n",
      "# words = [re.findall(r'\\w+\\S*\\w+|\\w', text.lower()) for text in all_comment_text]\n",
      "# words = [item for sublist in words for item in sublist]\n",
      "\n",
      "# scrubbed_words = []\n",
      "# for word in words:\n",
      "#     if word in stop_words:\n",
      "#         continue\n",
      "#     else:\n",
      "#         scrubbed_words.append(word)\n",
      "\n",
      "# common_words = collections.Counter(scrubbed_words).most_common(25)\n",
      "# print common_words"
     ],
     "language": "python",
     "metadata": {},
     "outputs": [
      {
       "output_type": "stream",
       "stream": "stdout",
       "text": [
        "[(u'just', 294), (u'like', 283), (u'can', 255), (u'one', 206), (u'get', 204), (u'people', 197), (u'think', 173), (u'will', 172), (u'really', 138), (u'good', 128), (u'time', 118), (u'make', 113), (u'see', 112), (u'know', 110), (u'still', 105), (u'well', 104), (u'much', 100), (u'go', 96), (u'even', 91), (u'now', 90), (u'also', 88), (u'way', 88), (u'want', 86), (u'going', 86), (u'right', 83)]\n"
       ]
      }
     ],
     "prompt_number": 11
    },
    {
     "cell_type": "markdown",
     "metadata": {},
     "source": [
      "To our disappointment, this exploration was not particularly enlightening. None of these words reflect privacy concerns or other interesting facets of the discourse on Reddit."
     ]
    },
    {
     "cell_type": "markdown",
     "metadata": {},
     "source": [
      "The iterative Facebook URL search successfully identified one user after searching through one million comments. The Facebook URL returned redirected to a Facebook Page, but this user inadvertently embedded his Facebook user ID in the URL. We can visit https://facebook.com/profile.php?id=100000427775740 to view the Facebook Profile of a likely high school student named Austin Jenkins.\n",
      "\n",
      "The parallelized search was highly successful."
     ]
    },
    {
     "cell_type": "code",
     "collapsed": false,
     "input": [
      "conds = [{\"name\": \"phone number\", \"f\": contains_phone}, {\"name\": \"email/twitter\", \"f\": contains_email_twitter}, {\"name\": \"facebook url\", \"f\": contains_facebook}, {\"name\": \"facebook profile\", \"f\": contains_facebook_profile}]\n",
      "keywords = [\"email\", \"birthday\", \"zip\", \"address\"]\n",
      "\n",
      "# toggle to run our search on 15 1M comment samples\n",
      "# results_0 = search(1000000, conds, keywords, logpath=\"gov-0.log\", start=0, progress=250000)\n",
      "# results_1 = search(1000000, conds, keywords, logpath=\"gov-1.log\", start=1000000, progress=250000)\n",
      "# results_2 = search(1000000, conds, keywords, logpath=\"gov-2.log\", start=2000000, progress=250000)\n",
      "# results_3 = search(1000000, conds, keywords, logpath=\"gov-3.log\", start=3000000, progress=250000)\n",
      "# results_4 = search(1000000, conds, keywords, logpath=\"gov-4.log\", start=4000000, progress=250000)\n",
      "# results_5 = search(1000000, conds, keywords, logpath=\"gov-5.log\", start=5000000, progress=250000)\n",
      "# results_6 = search(1000000, conds, keywords, logpath=\"gov-6.log\", start=6000000, progress=250000)\n",
      "# results_7 = search(1000000, conds, keywords, logpath=\"gov-7.log\", start=7000000, progress=250000)\n",
      "# results_8 = search(1000000, conds, keywords, logpath=\"gov-8.log\", start=8000000, progress=250000)\n",
      "# results_9 = search(1000000, conds, keywords, logpath=\"gov-9.log\", start=9000000, progress=250000)\n",
      "# results_10 = search(1000000, conds, keywords, logpath=\"gov-10.log\", start=10000000, progress=250000)\n",
      "# results_11 = search(1000000, conds, keywords, logpath=\"gov-11.log\", start=11000000, progress=250000)\n",
      "# results_12 = search(1000000, conds, keywords, logpath=\"gov-12.log\", start=12000000, progress=250000)\n",
      "# results_13 = search(1000000, conds, keywords, logpath=\"gov-13.log\", start=13000000, progress=250000)\n",
      "# results_14 = search(1000000, conds, keywords, logpath=\"gov-14.log\", start=14000000, progress=250000)\n",
      "\n",
      "\n",
      "# cleaned output\n",
      "# Sample 0\n",
      "# Found 1 comments containing a facebook profile\n",
      "# Found 244 comments containing \"zip\"\n",
      "# Found 146 comments containing a phone number\n",
      "# Found 1068 comments containing a email/twitter\n",
      "# Found 1258 comments containing \"birthday\"\n",
      "# Found 1704 comments containing \"address\"\n",
      "# Found 331 comments containing a facebook url\n",
      "# Found 1927 comments containing \"email\"\n",
      "# Sample 1\n",
      "# Found 1 comments containing a facebook profile\n",
      "# Found 258 comments containing \"zip\"\n",
      "# Found 135 comments containing a phone number\n",
      "# Found 1027 comments containing a email/twitter\n",
      "# Found 1366 comments containing \"birthday\"\n",
      "# Found 1813 comments containing \"address\"\n",
      "# Found 310 comments containing a facebook url\n",
      "# Found 1583 comments containing \"email\"\n",
      "# Sample 2\n",
      "# Found 1 comments containing a facebook profile\n",
      "# Found 191 comments containing \"zip\"\n",
      "# Found 138 comments containing a phone number\n",
      "# Found 1003 comments containing a email/twitter\n",
      "# Found 1360 comments containing \"birthday\"\n",
      "# Found 1691 comments containing \"address\"\n",
      "# Found 301 comments containing a facebook url\n",
      "# Found 1739 comments containing \"email\"\n",
      "# Sample 3\n",
      "# Found 1 comments containing a facebook profile\n",
      "# Found 204 comments containing \"zip\"\n",
      "# Found 104 comments containing a phone number\n",
      "# Found 1030 comments containing a email/twitter\n",
      "# Found 1503 comments containing \"birthday\"\n",
      "# Found 1530 comments containing \"address\"\n",
      "# Found 253 comments containing a facebook url\n",
      "# Found 1327 comments containing \"email\"\n",
      "# Sample 4\n",
      "# Found 0 comments containing a facebook profile\n",
      "# Found 310 comments containing \"zip\"\n",
      "# Found 104 comments containing a phone number\n",
      "# Found 1095 comments containing a email/twitter\n",
      "# Found 1395 comments containing \"birthday\"\n",
      "# Found 1439 comments containing \"address\"\n",
      "# Found 257 comments containing a facebook url\n",
      "# Found 1473 comments containing \"email\"\n",
      "# Sample 5\n",
      "# Found 0 comments containing a facebook profile\n",
      "# Found 237 comments containing \"zip\"\n",
      "# Found 135 comments containing a phone number\n",
      "# Found 1167 comments containing a email/twitter\n",
      "# Found 1352 comments containing \"birthday\"\n",
      "# Found 1550 comments containing \"address\"\n",
      "# Found 283 comments containing a facebook url\n",
      "# Found 1447 comments containing \"email\"\n",
      "# Sample 6\n",
      "# Found 0 comments containing a facebook profile\n",
      "# Found 202 comments containing \"zip\"\n",
      "# Found 107 comments containing a phone number\n",
      "# Found 1006 comments containing a email/twitter\n",
      "# Found 1586 comments containing \"birthday\"\n",
      "# Found 1635 comments containing \"address\"\n",
      "# Found 322 comments containing a facebook url\n",
      "# Found 1714 comments containing \"email\"\n",
      "# Sample 7\n",
      "# Found 2 comments containing a facebook profile\n",
      "# Found 229 comments containing \"zip\"\n",
      "# Found 142 comments containing a phone number\n",
      "# Found 1074 comments containing a email/twitter\n",
      "# Found 1519 comments containing \"birthday\"\n",
      "# Found 1641 comments containing \"address\"\n",
      "# Found 377 comments containing a facebook url\n",
      "# Found 1948 comments containing \"email\"\n",
      "# Sample 8\n",
      "# Found 2 comments containing a facebook profile\n",
      "# Found 220 comments containing \"zip\"\n",
      "# Found 123 comments containing a phone number\n",
      "# Found 1011 comments containing a email/twitter\n",
      "# Found 1339 comments containing \"birthday\"\n",
      "# Found 1616 comments containing \"address\"\n",
      "# Found 351 comments containing a facebook url\n",
      "# Found 1976 comments containing \"email\"\n",
      "# Sample 9\n",
      "# Found 2 comments containing a facebook profile\n",
      "# Found 204 comments containing \"zip\"\n",
      "# Found 131 comments containing a phone number\n",
      "# Found 982 comments containing a email/twitter\n",
      "# Found 1464 comments containing \"birthday\"\n",
      "# Found 1592 comments containing \"address\"\n",
      "# Found 364 comments containing a facebook url\n",
      "# Found 1811 comments containing \"email\"\n",
      "# Sample 10\n",
      "# Found 4 comments containing a facebook profile\n",
      "# Found 212 comments containing \"zip\"\n",
      "# Found 109 comments containing a phone number\n",
      "# Found 984 comments containing a email/twitter\n",
      "# Found 1598 comments containing \"birthday\"\n",
      "# Found 1364 comments containing \"address\"\n",
      "# Found 363 comments containing a facebook url\n",
      "# Found 1465 comments containing \"email\"\n",
      "# Sample 11\n",
      "# Found 3 comments containing a facebook profile\n",
      "# Found 217 comments containing \"zip\"\n",
      "# Found 116 comments containing a phone number\n",
      "# Found 892 comments containing a email/twitter\n",
      "# Found 1451 comments containing \"birthday\"\n",
      "# Found 1392 comments containing \"address\"\n",
      "# Found 286 comments containing a facebook url\n",
      "# Found 1341 comments containing \"email\"\n",
      "# Sample 12\n",
      "# Found 0 comments containing a facebook profile\n",
      "# Found 198 comments containing \"zip\"\n",
      "# Found 157 comments containing a phone number\n",
      "# Found 1011 comments containing a email/twitter\n",
      "# Found 1424 comments containing \"birthday\"\n",
      "# Found 1642 comments containing \"address\"\n",
      "# Found 341 comments containing a facebook url\n",
      "# Found 1582 comments containing \"email\"\n",
      "# Sample 13\n",
      "# Found 2 comments containing a facebook profile\n",
      "# Found 219 comments containing \"zip\"\n",
      "# Found 117 comments containing a phone number\n",
      "# Found 983 comments containing a email/twitter\n",
      "# Found 1494 comments containing \"birthday\"\n",
      "# Found 1790 comments containing \"address\"\n",
      "# Found 325 comments containing a facebook url\n",
      "# Found 1669 comments containing \"email\"\n",
      "# Sample 14\n",
      "# Found 0 comments containing a facebook profile\n",
      "# Found 230 comments containing \"zip\"\n",
      "# Found 133 comments containing a phone number\n",
      "# Found 971 comments containing a email/twitter\n",
      "# Found 1836 comments containing \"birthday\"\n",
      "# Found 1686 comments containing \"address\"\n",
      "# Found 360 comments containing a facebook url\n",
      "# Found 1851 comments containing \"email\"\n",
      "\n",
      "\n",
      "# summed\n",
      "facebook_profile_ct = 1+1+1+1+0+0+0+2+2+2+4+3+0+2+0\n",
      "zip_keyword_ct = 244+258+191+204+310+237+202+229+220+204+212+217+198+219+230\n",
      "phone_number_ct = 146+135+138+104+104+135+107+142+123+131+109+116+157+117+133\n",
      "email_twitter_ct = 1068+1027+1003+1030+1095+1167+1006+1074+1011+982+984+892+1011+983+971\n",
      "birthday_keyword_ct = 1258+1366+1360+1503+1395+1352+1586+1519+1339+1464+1598+1451+1424+1494+1836\n",
      "address_keyword_ct = 1704+1813+1691+1530+1439+1550+1635+1641+1616+1592+1364+1392+1642+1790+1686\n",
      "facebook_url_ct = 331+310+301+253+257+283+322+377+351+364+363+286+341+325+360\n",
      "email_keyword_ct = 1927+1583+1739+1327+1473+1447+1714+1948+1976+1811+1465+1341+1582+1669+1851\n",
      "\n",
      "print \"We found:\"\n",
      "print \"{} hits for 'zip', {} hits for 'birthday', {} hits for 'address', and {} hits for 'email'\".format(zip_keyword_ct,\n",
      "                                                                                                         birthday_keyword_ct,\n",
      "                                                                                                         address_keyword_ct,\n",
      "                                                                                                         email_keyword_ct)\n",
      "print \"{} Facebook URLs\".format(facebook_url_ct)\n",
      "print \"{} likely Facebook profiles\".format(facebook_profile_ct) \n",
      "print \"{} likely phone numbers\".format(phone_number_ct)\n",
      "print \"{} likely Twitter handles or email addresses\".format(email_twitter_ct)"
     ],
     "language": "python",
     "metadata": {},
     "outputs": [
      {
       "output_type": "stream",
       "stream": "stdout",
       "text": [
        "We found:\n",
        "3375 hits for 'zip', 21945 hits for 'birthday', 24085 hits for 'address', and 24853 hits for 'email'\n",
        "4824 Facebook URLs\n",
        "19 likely Facebook profiles\n",
        "1897 likely phone numbers\n",
        "15304 likely Twitter handles or email addresses\n"
       ]
      }
     ],
     "prompt_number": 10
    },
    {
     "cell_type": "code",
     "collapsed": false,
     "input": [
      "# toggle to write the results from above to their own files\n",
      "# open('results-0.json','w').write(json.dumps(results_0))\n",
      "# open('results-1.json','w').write(json.dumps(results_1))\n",
      "# open('results-2.json','w').write(json.dumps(results_2))\n",
      "# open('results-3.json','w').write(json.dumps(results_3))\n",
      "# open('results-4.json','w').write(json.dumps(results_4))\n",
      "# open('results-5.json','w').write(json.dumps(results_5))\n",
      "# open('results-6.json','w').write(json.dumps(results_6))\n",
      "# open('results-7.json','w').write(json.dumps(results_7))\n",
      "# open('results-8.json','w').write(json.dumps(results_8))\n",
      "# open('results-9.json','w').write(json.dumps(results_9))\n",
      "# open('results-10.json','w').write(json.dumps(results_10))\n",
      "# open('results-11.json','w').write(json.dumps(results_11))\n",
      "# open('results-12.json','w').write(json.dumps(results_12))\n",
      "# open('results-13.json','w').write(json.dumps(results_13))\n",
      "# open('results-14.json','w').write(json.dumps(results_14))"
     ],
     "language": "python",
     "metadata": {},
     "outputs": [],
     "prompt_number": 40
    },
    {
     "cell_type": "code",
     "collapsed": false,
     "input": [
      "# toggle to read in results data from above\n",
      "results_0 = json.loads(open('data/results-0.json').read())\n",
      "results_1 = json.loads(open('data/results-1.json').read())\n",
      "results_2 = json.loads(open('data/results-2.json').read())\n",
      "results_3 = json.loads(open('data/results-3.json').read())\n",
      "results_4 = json.loads(open('data/results-4.json').read())\n",
      "results_5 = json.loads(open('data/results-5.json').read())\n",
      "results_6 = json.loads(open('data/results-6.json').read())\n",
      "results_7 = json.loads(open('data/results-7.json').read())\n",
      "results_8 = json.loads(open('data/results-8.json').read())\n",
      "results_9 = json.loads(open('data/results-9.json').read())\n",
      "results_10 = json.loads(open('data/results-10.json').read())\n",
      "results_11 = json.loads(open('data/results-11.json').read())\n",
      "results_12 = json.loads(open('data/results-12.json').read())\n",
      "results_13 = json.loads(open('data/results-13.json').read())\n",
      "results_14 = json.loads(open('data/results-14.json').read())\n"
     ],
     "language": "python",
     "metadata": {},
     "outputs": [],
     "prompt_number": 9
    },
    {
     "cell_type": "markdown",
     "metadata": {},
     "source": [
      "To reduce the size of our log files, our parallelized search only saved comment IDs. The below is our way of retrieving comment bodies given a comment ID."
     ]
    },
    {
     "cell_type": "code",
     "collapsed": false,
     "input": [
      "def comment_lookup(results_obj, sample_size, sample_start, filename):\n",
      "    temp = {}\n",
      "    for key in results_obj:\n",
      "        temp[key] = []\n",
      "    \n",
      "    comments = sample(sample_size, start=sample_start, progress=250000)\n",
      "    count = 0\n",
      "    for comment in comments:\n",
      "        if count % 250000 == 0:\n",
      "            print \"Inspecting comment #{}\".format(count)\n",
      "            sys.stdout.flush()\n",
      "        comment_id = comment['id']\n",
      "        for key in results_obj:\n",
      "            if comment_id in results_obj[key]:\n",
      "                temp[key].append(comment)\n",
      "        count += 1\n",
      "    \n",
      "    open(filename+'.json','w').write(json.dumps(temp))"
     ],
     "language": "python",
     "metadata": {},
     "outputs": [],
     "prompt_number": 6
    },
    {
     "cell_type": "code",
     "collapsed": false,
     "input": [
      "comment_lookup(results_0, 1000000, 0, 'comments_0')\n",
      "comment_lookup(results_1, 1000000, 1000000, 'comments_1')\n",
      "comment_lookup(results_2, 1000000, 2000000, 'comments_2')\n",
      "comment_lookup(results_3, 1000000, 3000000, 'comments_3')\n",
      "comment_lookup(results_4, 1000000, 4000000, 'comments_4')\n",
      "comment_lookup(results_5, 1000000, 5000000, 'comments_5')\n",
      "comment_lookup(results_6, 1000000, 6000000, 'comments_6')\n",
      "comment_lookup(results_7, 1000000, 7000000, 'comments_7')\n",
      "comment_lookup(results_8, 1000000, 8000000, 'comments_8')\n",
      "comment_lookup(results_9, 1000000, 9000000, 'comments_9')\n",
      "comment_lookup(results_10, 1000000, 10000000, 'comments_10')\n",
      "comment_lookup(results_11, 1000000, 11000000, 'comments_11')\n",
      "comment_lookup(results_12, 1000000, 12000000, 'comments_12')\n",
      "comment_lookup(results_13, 1000000, 13000000, 'comments_13')\n",
      "comment_lookup(results_14, 1000000, 14000000, 'comments_14')"
     ],
     "language": "python",
     "metadata": {},
     "outputs": [],
     "prompt_number": 1
    },
    {
     "cell_type": "code",
     "collapsed": false,
     "input": [
      "# an example of how to look up bodies from the retrieved comments\n",
      "x = json.loads(open('comments_12.json').read())\n",
      "print x['email'][0]['body']"
     ],
     "language": "python",
     "metadata": {},
     "outputs": [
      {
       "output_type": "stream",
       "stream": "stdout",
       "text": [
        "Why would you send the full amount if you don't agree?  I've battled with landlords before. You usually just have to confront him.  Before you get all crazy, check the laws of your state first.  This should be very quick since landlord laws are usually very rigid.  Then know your rights, and confront him if you can.  If you can't, send him a certified letter explaining that he changed the rent, and copy the email.  At the worst, all you have to do is go to court.  Dispute or not pay the rent that you think you owe every month.  And sign a new lease if you can.  \n"
       ]
      }
     ],
     "prompt_number": 28
    },
    {
     "cell_type": "markdown",
     "metadata": {},
     "source": [
      "The keyword search revealed that Reddit users are at least discussing personal information. In our data set of 15 million comments, the keywords email, address, and birthday occurred over 20,000 times each.\n"
     ]
    },
    {
     "cell_type": "code",
     "collapsed": false,
     "input": [
      "keyword_data = {\"zip (keyword)\": zip_keyword_ct, \"birthday (keyword)\": birthday_keyword_ct, \"address (keyword)\": address_keyword_ct, \"email (keyword)\": email_keyword_ct}\n",
      "visualize(\"Basic Data Found\", keyword_data, set_size=False, offX=50)"
     ],
     "language": "python",
     "metadata": {},
     "outputs": [
      {
       "metadata": {},
       "output_type": "display_data",
       "png": "[encoded data removed]",
       "text": [
        "<matplotlib.figure.Figure at 0x106e57c90>"
       ]
      }
     ],
     "prompt_number": 14
    },
    {
     "cell_type": "markdown",
     "metadata": {},
     "source": [
      "Looking at the comments returned by this search revealed that the signal to noise ratio is pretty low \u2013 most of the comments do not contain identifying information, just the keyword in question. For instance, discussion of NSA surveillance often contained the word \u201cemail\u201d without the user actually posting a real email address. We determined that this data would not allow us to easily and automatically identify users.\n",
      "\n",
      "Searches for more specific information \u2013 actual email addresses, phone numbers, and Facebook URLs - were fruitful."
     ]
    },
    {
     "cell_type": "code",
     "collapsed": false,
     "input": [
      "other_data = {\"Facebook URL\": facebook_url_ct, \"Phone Numbers\": phone_number_ct, \"Email addresses/Twitter Handles\": email_twitter_ct, \"Facebook Profile URLs\": facebook_profile_ct}\n",
      "visualize(\"Advanced Data Found\", other_data, set_size=False, offX=50)"
     ],
     "language": "python",
     "metadata": {},
     "outputs": [
      {
       "metadata": {},
       "output_type": "display_data",
       "png": "[encoded data removed]",
       "text": [
        "<matplotlib.figure.Figure at 0x106e69950>"
       ]
      }
     ],
     "prompt_number": 16
    },
    {
     "cell_type": "markdown",
     "metadata": {},
     "source": [
      "We found almost 5,000 Facebook URLs, and 19 Facebook profile URLs. Looking at these, they were much more identifying, often tying a Reddit account to that user\u2019s band\u2019s Facebook page, or even to their personal Facebook account. Manual interaction with the results also paid significant dividends. Filtering our results by keywords such as \u201cmy\u201d and \u201ctoday\u201d left us with a much smaller dataset which could be surveyed manually. Specifically, 929 of the comments containing \u201cbirthday\u201d also contained \u201ctoday,\u201d and 814 of the comments containing a Facebook URL contained the word \u201cmy.\u201d We discovered that most of these comments were personal; comments like \u201ctoday is my birthday\u201d and \u201clike my page\u201d were common, leading us to believe that this dataset would be much more useful when it came to identifying users."
     ]
    },
    {
     "cell_type": "code",
     "collapsed": false,
     "input": [
      "\"\"\" Builds Master dict from comments_0 to comments_14 \"\"\"\n",
      "x = json.loads(open('comments_0.json').read())\n",
      "\n",
      "keys = x.keys()\n",
      "result_dict = dict((k, []) for k in keys)\n",
      "for i in xrange(15):\n",
      "    x = json.loads(open('comments_{}.json'.format(i)).read())\n",
      "    for k in keys:\n",
      "        result_dict[k] += x[k]"
     ],
     "language": "python",
     "metadata": {},
     "outputs": [],
     "prompt_number": 17
    },
    {
     "cell_type": "code",
     "collapsed": false,
     "input": [
      "# look at facebook profiles\n",
      "for comment in result_dict['facebook profile']:\n",
      "    print comment['body']\n",
      "    print \"########\""
     ],
     "language": "python",
     "metadata": {},
     "outputs": [
      {
       "output_type": "stream",
       "stream": "stdout",
       "text": [
        "Here you go! https://facebook.com/profile.php?id=330659473723743&amp;__user=100000427775740\n",
        "########\n",
        "Thank you, citizen! I will remove you from our NSA observation list, instead we will focus on our next target, this guy:\n",
        "http://facebook.com/profile.php?=73322363\n",
        "########\n",
        "https://m.facebook.com/profile.php?id=119985464691108\n",
        "########\n",
        "http://facebook.com/profile.php?=73322363\n",
        "########\n",
        "At least you weren't [THIS person](http://www.facebook.com/profile.php?=743264506)\n",
        "########\n",
        "[Here](https://facebook.com/profile.php?id=129439940472702) is the non-mobile version of this site.\n",
        "########\n",
        "I might.  [Is this you Kismet7?](http://facebook.com/profile.php?=73322363)\n",
        "########\n",
        "https://www.facebook.com/profile.php?id=100000152574438&amp;directed_target_id=0\n",
        "########\n",
        "http://www.facebook.com/profile.php?id=621834263\n",
        "\n",
        "I actually don't use my FB at all (I might when school starts) but I have email notifications sent so if you send me a message I will get it even though I never logon :) Of course I will accept your friend request\n",
        "########\n",
        "[This one?](https://www.facebook.com/profile.php?=87912848)\n",
        "########\n",
        "Please mesage send riot and arcade hecarim https://www.facebook.com/profile.php?id=100005422148710\n",
        "\n",
        "########\n",
        "i need blitz code https://www.facebook.com/profile.php?id=100006331893271&amp;ref=tn_tnmn\n",
        "########\n",
        "Arcade Heca Riot Blitz Olan varsa faceden atabilirmi ya l\u00fctfen 2 g\u00fcnd\u00fcr ar\u0131yorum :(( https://www.facebook.com/profile.php?id=100000267590563\n",
        "########\n",
        "Fag reposter OP's facebook\n",
        "http://facebook.com/profile.php?=73322363\n",
        "########\n",
        "https://www.facebook.com/profile.php?id=100006696840159\n",
        "########\n",
        "Hey guys can you like my fb page:\n",
        "http://m.facebook.com/profile.php?id=584026538326111&amp;v=feed&amp;_rdr\n",
        "########\n",
        "FAST DONT MISS UR CHANCE FOR FREE SKIN EVERY THIRD WINS - ADD ME AS A FRIEND MESSAGE ME AND IF UR ARE THIRD PERSON U WIN SKIN ONLY TODAY https://www.facebook.com/profile.php?id=100006637927471 !!!\n",
        "########\n",
        "Cattoos in Dunkirk  ny. I've seen some wonderful portraits done by her although I've never been to her studio before https://m.facebook.com/profile.php?id=125060270882401&amp;refsrc=http%3A%2F%2Fwww.google.com%2F&amp;refid=9&amp;_rdr#_=_\n",
        "########\n",
        "[He does.](https://www.facebook.com/profile.php?id=9369714&amp;fref=ts) \n",
        "\n",
        "########\n"
       ]
      }
     ],
     "prompt_number": 24
    },
    {
     "cell_type": "markdown",
     "metadata": {},
     "source": [
      "Above are comments that contained FB profiles. In particular, we see one URL that contains a \"user=\" parameter, which is the poster's account, accidentally included. Additionally, we see a user reference \"my fb page\" (https://m.facebook.com/profile.php?id=584026538326111), which goes to a page with 2 listed owners, one of which is likely the poster. Another few appear to be giving out their personal page as a means of communication. "
     ]
    },
    {
     "cell_type": "code",
     "collapsed": false,
     "input": [
      "today_birthdays = refine(result_dict, 'birthday', ['today'])\n",
      "print \"Found {} birthdays containing 'today'\".format(len(today_birthdays))\n",
      "for bday_comment in today_birthdays:\n",
      "    print bday_comment\n",
      "    print \"########\"\n"
     ],
     "language": "python",
     "metadata": {},
     "outputs": [],
     "prompt_number": 2
    },
    {
     "cell_type": "raw",
     "metadata": {},
     "source": [
      "SAMPLE OUTPUT:\n",
      "\n",
      "Found 929 birthdays containing 'today'\n",
      "\n",
      "Happy birthday Chawhee! I do believe today is the grand chawhee's birthday! Come along charlie we have a race to win, isn't that right mr. itchy?\n",
      "########\n",
      "Ah cool those photos are really nice. I didn't get into town.\n",
      "\n",
      "It was my Da's 77th birthday today and I got up at half five to queue for the last ticket for the Henrietta Street tenement experience for him. When I went down to give him the ticket,  the lady told me that one person had failed to show up and I got to go in too. It was amazing. All about the lockout and the lives of the people at the time. \n",
      "\n",
      "It was such an emotional experience being surrounded by elderly people who grew up in these old houses all crying and and sharing stories then walking away arm in arm singing with their kids and grand kids.\n",
      "\n",
      "They should continue the show throughout the year. Or at least do one more evening just for culture night. \n",
      "########\n",
      "I have been wanting some different colored jeans, so I bought some red ones last night at a discount store called Dirt Cheap (for $4.80!), and I am totally rocking them today! And it's also my birthday. \n",
      "########\n",
      "I was at home celebrating with it as the main event. We had a huge party and still celebrate it today. Just came home from sushi dinner! \n",
      "\n",
      "9/11 is my birthday :P\n",
      "########\n",
      "Today is my first paid photography gig. I'm nervous and excited all roll into one. It's a friend's daughter's birthday party. I've done several parties before (usually to practice and get a feel for it) but haven't felt like this. I've been shooting all my life but it was only six months ago that I made the switch to DSLR. I held out this long without charging because of self esteem, but I believe it's time to really get out there. \n",
      "\n",
      "Wish me luck. \n",
      "########\n",
      "I purchased one of his songs today just because of the birthday. Does anyone have a clue where these money are going? (Purchase done on itunes..)\n",
      "########\n",
      "It's my birthday today :'(\n",
      "########\n",
      "Its my birthday today. Practise here!\n",
      "########\n",
      "Yesterday was my birthday and I was just feeling really shitty. Like oh another year passed, still not presenting, still not happy, etc etc. Wasn't able to concentrate at work just dwelling on my situation all day on the brink of breaking down. And my mom is taking me to dinner tonight to celebrate, but I'm not out publicly, and it annoys me to celebrate as a guy.\n",
      "\n",
      "Though the day got slightly better after work. Viewed an apartment and everything seemed to go really well, and signing the lease for it today(my current place I'm in got foreclosed on). Then put on some nice pajamas and roasted a birthday chicken and watched Dexter all night.\n",
      "\n",
      "I made a thread about feeling like shit on my birthday, nobody responded within 2 hours, and it got downvoted 3 times. So I deleted it, and it made me feel even worse. \n",
      "########\n",
      "Friends birthday today.\n",
      "########\n",
      "Today is my birthday \n",
      "\n",
      "I'm feeling happy with my life\n",
      "\n",
      "I'm going to pick the winner to my Happy contest"
     ]
    },
    {
     "cell_type": "code",
     "collapsed": false,
     "input": [
      "my_counts = {}\n",
      "for k in result_dict:\n",
      "    my_refined = refine(result_dict, k, ['my'])\n",
      "    my_counts[k] = len(my_refined)\n",
      "visualize(\"Filtered by 'my'\", my_counts, set_size=False, offX=50)"
     ],
     "language": "python",
     "metadata": {},
     "outputs": [
      {
       "metadata": {},
       "output_type": "display_data",
       "png": "[encoded data removed]",
       "text": [
        "<matplotlib.figure.Figure at 0x106e9ba90>"
       ]
      }
     ],
     "prompt_number": 21
    },
    {
     "cell_type": "markdown",
     "metadata": {},
     "source": [
      "Now the overwhelming 5,000 FB URLs is a much more manageable 800. Let's take a look at some of the comment containing these URLs."
     ]
    },
    {
     "cell_type": "code",
     "collapsed": false,
     "input": [
      "my_refined = list(refine(result_dict, \"facebook url\", ['my']))\n",
      "for fb_comment in my_refined:\n",
      "    print fb_comment\n",
      "    print \"############\"\n"
     ],
     "language": "python",
     "metadata": {},
     "outputs": [],
     "prompt_number": 3
    },
    {
     "cell_type": "raw",
     "metadata": {},
     "source": [
      "SAMPLE OUTPUT:\n",
      "\n",
      "Please help me reach My Goal of 1000 Likes on my Business page!\n",
      "https://www.facebook.com/CoachTaraWoodruff\n",
      "############\n",
      "Huf Lurkers Tee - DSWOT \n",
      "\n",
      "Palace Tee - 8.5/10 Condition \n",
      "\n",
      "Vans Tee - 8/10 Condition \n",
      "\n",
      "Koto Aztec Long sleeve - 8/10 Condition \n",
      "\n",
      "Gold Coast Complete Cruiser - Won it in a contest, rode it about 10 times.\n",
      "\n",
      "All size large besides Koto Aztec Long Sleeve which is a medium.\n",
      "\n",
      "Tag is my name on [Facebook](https://www.facebook.com/aleddis) and if you don't believe me already feel free to send me a message through Facebook instead of Reddit. \n",
      "############\n",
      "| | |  \n",
      "|-:|:-|  \n",
      "|**artist**|Toadies|  \n",
      "|**about artist**|Toadies are an alternative rock band from Fort Worth, Texas. The band's best known lineup consisted of Vaden Todd Lewis (guitar, vocals) Mark Reznicek (drums), Lisa Umbarger (bass), and Clark Vogeler (guitar). When the band reformed in 2006, Umbarger amicably declined to participate and has been replaced by Doni Blair. They are best known for the hit single \"Possum Kingdom,\" from their album Rubberneck. This song was named after Possum Kingdom State Park, in Palo Pinto County, Texas. ([more on last.fm](http://www.last.fm/music/Toadies))|  \n",
      "|**similar to**|Burden Brothers, Local H, Tripping Daisy, Sponge, Jimmie's Chicken Shack|  \n",
      "|**album**|*Rubberneck*, released Aug 1994|  \n",
      "|**track**|Tyler|  \n",
      "|**about track**|the best stalker song ever.|  \n",
      "|**images**|[album image](http://images.amazon.com/images/P/B000075A3F.01.MZZZZZZZ.jpg), [artist image](http://userserve-ak.last.fm/serve/252/24713997.jpg)|  \n",
      "|**links**|[wikipedia](http://en.wikipedia.org/wiki/Toadies), [official homepage](http://thetoadies.com/), [allmusic](http://www.allmusic.com/artist/mn0000607094), [discogs](http://www.discogs.com/artist/Toadies), [IMDb](http://www.imdb.com/name/nm3067212/), [biography](http://www.kirtlandrecords.com/Toadies.htm), [secondhandsongs](http://www.secondhandsongs.com/artist/8274), [myspace](https://myspace.com/toadies), [gplus](https://plus.google.com/ toadies), [twitter](https://twitter.com/thetoadies), [facebook](https://www.facebook.com/ToadiesBand)|  \n",
      "|**tags**|[rock](http://radd.it/music/rock), [alternativerock](http://radd.it/music/alternativerock), [alternative](http://radd.it/music/alternative), [grunge](http://radd.it/music/grunge), [90s](http://radd.it/music/90s), [altrock](http://radd.it/music/altrock), [postgrunge](http://radd.it/music/postgrunge)|  \n",
      "|**player**|http://radd.it/r/listentothis/comments/1lfmhj/the_toadies_tyler_alt_rock_postgrunge/|  \n",
      "|*permalink*|http://reddit.com/r/listentothis/comments/1lfmhj/the_toadies_tyler_alt_rock_postgrunge/|  \n",
      "|metrics|lastfm listeners: 218,064, lastfm plays: 2,387,477, youtube plays: 793,390, radd.it score: 6.5|\n",
      "\n",
      "  \n",
      "*Why yes, [I am a bot](http://www.reddit.com/r/radd_it/comments/1gxa85/who_is_uradditbot_and_why_is_it_commenting_here/).  I've been requested to comment in this subreddit.*  \n",
      "Please let me know if I made a mistake!\n",
      "############\n",
      "actual bike: I couldn't take a pic with my phone but someone took this one the other night: https://www.facebook.com/photo.php?fbid=10201900198764533&amp;set=at.10201514909812550.1073741825.1170750049.100003338799680&amp;type=1&amp;theater\n",
      "############\n",
      "Since I don't want to spam Reddit with photos, I'll be uploading them as I get them to my [Facebook page](https://www.facebook.com/ViverraCosplay).\n",
      "############"
     ]
    },
    {
     "cell_type": "markdown",
     "metadata": {},
     "source": [
      "We have starting to go through and characterize comments as containing links to pages belonging to the poster, or not. We marked each identifying comment with a \"1\", and non-identifying comments with a \"0\" and comments that identify someone else (a relative, etc) with \"2\"."
     ]
    },
    {
     "cell_type": "code",
     "collapsed": false,
     "input": [
      "found_str = \"11001110101000101221021021211100\"\n",
      "print \"In the first {} comments, {} contain a page belonging to the user and {} contain a page belonging to an acquaintance of the user.\".format(len(found_str), found_str.count('1'), found_str.count('2'))\n",
      "print \"The last comment checked begins with \\\"{}\\\"\".format(my_refined[len(found_str)-1][:50])"
     ],
     "language": "python",
     "metadata": {},
     "outputs": [
      {
       "output_type": "stream",
       "stream": "stdout",
       "text": [
        "In the first 32 comments, 15 contain a page belonging to the user and 5 contain a page belonging to an acquaintance of the user.\n",
        "The last comment checked begins with \"[Mons Montis](https://www.facebook.com/pages/Mons-\"\n"
       ]
      }
     ],
     "prompt_number": 39
    },
    {
     "cell_type": "heading",
     "level": 2,
     "metadata": {},
     "source": [
      "Discussion"
     ]
    },
    {
     "cell_type": "markdown",
     "metadata": {},
     "source": [
      "As we expected, there is a lot of personally identifying information on Reddit. However, it was not as easy as we had hoped to separate identifying, personal information from useless comments. By searching for specific patterns of information and by filtering broad searches with \u201cpersonal\u201d words, we were able to connect personal information, like birthdays, to Reddit users. Furthermore, we were able to identify 20 Reddit users, specifically through their Facebook profiles, after only looking at 50 comments (with over 700 more to look at). We did not contact the users we tentatively identified to confirm their suspected identities.\n",
      "\n",
      "Moving forward, we would like to run more complex analyses on the data in hopes of finding a better way to identify \u201cpersonal\u201d comments. One way of doing this is through a combination of natural language processing and machine learning techniques. If our methods are able to reliably identify comments containing personal information, we could write a program which continuously polls the stream of new comments on Reddit and alerts us, and potentially the user, to new personal posts. We could host this program online as a counterpart to [Reddit Investigator](http://www.redditinvestigator.com/), a tool which allows a user to look up information associated with a Reddit username.\n",
      "\n",
      "Reddit cannot prevent personally identifying information from appearing in comments and posts on the site. Censorship of this kind of content, even if it was done for the safety of the site's users, would not be received well by the Reddit community. A smarter way of alleviating this problem would be to provide users with a tool which alerts them when they post personal information, giving them the option to edit or delete their post or comment to redact the sensitive information."
     ]
    },
    {
     "cell_type": "heading",
     "level": 2,
     "metadata": {},
     "source": [
      "References"
     ]
    },
    {
     "cell_type": "markdown",
     "metadata": {},
     "source": [
      "The Reddit comment data set was collected and cleaned by Reddit user `w2m3d` and posted in [this thread](http://www.reddit.com/r/datasets/comments/1mbsa2/155m_reddit_comments_over_15_days/).\n",
      "\n",
      "The Reddit logo (\u201cSnoo\u201d) was taken from [here](http://www.redditstatic.com/about/assets/reddit-alien.png)."
     ]
    },
    {
     "cell_type": "markdown",
     "metadata": {},
     "source": [
      "---\n",
      "*css tweaks in this cell*\n",
      "<style>\n",
      "div.text_cell_render {\n",
      "    line-height: 150%;\n",
      "    font-size: 110%;\n",
      "    width: 800px;\n",
      "    margin-left:50px;\n",
      "    margin-right:auto;\n",
      "    }\n",
      "</style>"
     ]
    }
   ],
   "metadata": {}
  }
 ]
}