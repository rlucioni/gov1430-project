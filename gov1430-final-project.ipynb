{
 "metadata": {
  "name": ""
 },
 "nbformat": 3,
 "nbformat_minor": 0,
 "worksheets": [
  {
   "cells": [
    {
     "cell_type": "markdown",
     "metadata": {},
     "source": [
      "# The Illusion of Privacy on Reddit #\n",
      "\n",
      "### *Renzo Lucioni and R.J. Aquino* ###\n",
      "\n",
      "<div align=\"center\">\n",
      "<img src=\"http://www.redditstatic.com/about/assets/reddit-alien.png\" height=\"524\" width=\"236\">\n",
      "</div>"
     ]
    },
    {
     "cell_type": "markdown",
     "metadata": {},
     "source": [
      "## Table of Contents ##\n",
      "\n",
      "* [Abstract](#Abstract)\n",
      "* [Introduction](#Introduction)\n",
      "* [Methods and Results](#Methods-and-Results)\\*\n",
      "    * [Part 1: Harvesting Information](#Part-1:-Harvesting-Information)\n",
      "    * [Part 2: Identifying Users](#Part-2:-Identifying-Users)\n",
      "* [Discussion](#Discussion)\n",
      "\n",
      "\n",
      "\\* Please note that due to the unique nature of our project, namely our use of Python code, we have combined our Methods and Results section into one. Results will appear in-line with an explanation of our methods."
     ]
    },
    {
     "cell_type": "heading",
     "level": 2,
     "metadata": {},
     "source": [
      "Abstract"
     ]
    },
    {
     "cell_type": "markdown",
     "metadata": {},
     "source": [
      "The goal of this project was to explore privacy on Reddit, the popular social news and entertainment website. On Reddit, users register under a pseudonym, submit content primarily in the form of links, and make text comments on content submitted by others. We set out to harvest personally identifying information from a collection of 15 million comments posted to Reddit between August 28 and September 12. We succeeded in finding hundreds of Reddit users\u2019 Facebook profiles, Twitter handles, email addresses, phone numbers, and ZIP codes. This information allowed us to identify dozens of Redditors with a high degree of confidence. These results demonstrate that the notion of privacy on Reddit is an illusion for many users. Creating a truly anonymous environment on Reddit would require measures preventing users from posting this kind of information. However, such changes would be in direct opposition to the way the community on Reddit behaves."
     ]
    },
    {
     "cell_type": "code",
     "collapsed": false,
     "input": [
      "# special IPython command to prepare the notebook for matplotlib\n",
      "%matplotlib inline \n",
      "\n",
      "# we might not use all of these\n",
      "from fnmatch import fnmatch\n",
      "\n",
      "import numpy as np\n",
      "import pandas as pd\n",
      "import matplotlib.pyplot as plt\n",
      "import requests\n",
      "import pickle\n",
      "from pattern import web\n",
      "import json\n",
      "import re\n",
      "import sys\n",
      "import datetime as dt\n",
      "import operator\n",
      "import collections\n",
      "import sys\n",
      "import linecache\n",
      "\n",
      "# set some nicer defaults for matplotlib\n",
      "from matplotlib import rcParams\n",
      "\n",
      "#these colors come from colorbrewer2.org. Each is an RGB triplet\n",
      "dark2_colors = [(0.10588235294117647, 0.6196078431372549, 0.4666666666666667),\n",
      "                (0.8509803921568627, 0.37254901960784315, 0.00784313725490196),\n",
      "                (0.4588235294117647, 0.4392156862745098, 0.7019607843137254),\n",
      "                (0.9058823529411765, 0.1607843137254902, 0.5411764705882353),\n",
      "                (0.4, 0.6509803921568628, 0.11764705882352941),\n",
      "                (0.9019607843137255, 0.6705882352941176, 0.00784313725490196),\n",
      "                (0.6509803921568628, 0.4627450980392157, 0.11372549019607843),\n",
      "                (0.4, 0.4, 0.4)]\n",
      "\n",
      "rcParams['figure.figsize'] = (10, 6)\n",
      "rcParams['figure.dpi'] = 150\n",
      "rcParams['axes.color_cycle'] = dark2_colors\n",
      "rcParams['lines.linewidth'] = 2\n",
      "rcParams['axes.grid'] = False\n",
      "rcParams['axes.facecolor'] = 'white'\n",
      "rcParams['font.size'] = 14\n",
      "rcParams['patch.edgecolor'] = 'none'\n",
      "\n",
      "def remove_border(axes=None, top=False, right=False, left=True, bottom=True):\n",
      "    \"\"\"\n",
      "    Minimize chartjunk by stripping out unnecessary plot borders and axis ticks\n",
      "    \n",
      "    The top/right/left/bottom keywords toggle whether the corresponding plot border is drawn\n",
      "    \"\"\"\n",
      "    ax = axes or plt.gca()\n",
      "    ax.spines['top'].set_visible(top)\n",
      "    ax.spines['right'].set_visible(right)\n",
      "    ax.spines['left'].set_visible(left)\n",
      "    ax.spines['bottom'].set_visible(bottom)\n",
      "    \n",
      "    #turn off all ticks\n",
      "    ax.yaxis.set_ticks_position('none')\n",
      "    ax.xaxis.set_ticks_position('none')\n",
      "    \n",
      "    #now re-enable visibles\n",
      "    if top:\n",
      "        ax.xaxis.tick_top()\n",
      "    if bottom:\n",
      "        ax.xaxis.tick_bottom()\n",
      "    if left:\n",
      "        ax.yaxis.tick_left()\n",
      "    if right:\n",
      "        ax.yaxis.tick_right()\n"
     ],
     "language": "python",
     "metadata": {},
     "outputs": [],
     "prompt_number": 1
    },
    {
     "cell_type": "code",
     "collapsed": false,
     "input": [
      "# common English stop words\n",
      "stop_words = \"\"\"\n",
      "a\n",
      "about\n",
      "above\n",
      "after\n",
      "again\n",
      "against\n",
      "all\n",
      "am\n",
      "an\n",
      "and\n",
      "any\n",
      "are\n",
      "aren't\n",
      "as\n",
      "at\n",
      "be\n",
      "because\n",
      "been\n",
      "before\n",
      "being\n",
      "below\n",
      "between\n",
      "both\n",
      "but\n",
      "by\n",
      "can't\n",
      "cannot\n",
      "could\n",
      "couldn't\n",
      "did\n",
      "didn't\n",
      "do\n",
      "does\n",
      "doesn't\n",
      "doing\n",
      "don't\n",
      "down\n",
      "during\n",
      "each\n",
      "few\n",
      "for\n",
      "from\n",
      "further\n",
      "had\n",
      "hadn't\n",
      "has\n",
      "hasn't\n",
      "have\n",
      "haven't\n",
      "having\n",
      "he\n",
      "he'd\n",
      "he'll\n",
      "he's\n",
      "her\n",
      "here\n",
      "here's\n",
      "hers\n",
      "herself\n",
      "him\n",
      "himself\n",
      "his\n",
      "how\n",
      "how's\n",
      "i\n",
      "i'd\n",
      "i'll\n",
      "i'm\n",
      "i've\n",
      "if\n",
      "in\n",
      "into\n",
      "is\n",
      "isn't\n",
      "it\n",
      "it's\n",
      "its\n",
      "itself\n",
      "let's\n",
      "me\n",
      "more\n",
      "most\n",
      "mustn't\n",
      "my\n",
      "myself\n",
      "no\n",
      "nor\n",
      "not\n",
      "of\n",
      "off\n",
      "on\n",
      "once\n",
      "only\n",
      "or\n",
      "other\n",
      "ought\n",
      "our\n",
      "ours \n",
      "ourselves\n",
      "out\n",
      "over\n",
      "own\n",
      "same\n",
      "shan't\n",
      "she\n",
      "she'd\n",
      "she'll\n",
      "she's\n",
      "should\n",
      "shouldn't\n",
      "so\n",
      "some\n",
      "such\n",
      "than\n",
      "that\n",
      "that's\n",
      "the\n",
      "their\n",
      "theirs\n",
      "them\n",
      "themselves\n",
      "then\n",
      "there\n",
      "there's\n",
      "these\n",
      "they\n",
      "they'd\n",
      "they'll\n",
      "they're\n",
      "they've\n",
      "this\n",
      "those\n",
      "through\n",
      "to\n",
      "too\n",
      "under\n",
      "until\n",
      "up\n",
      "very\n",
      "was\n",
      "wasn't\n",
      "we\n",
      "we'd\n",
      "we'll\n",
      "we're\n",
      "we've\n",
      "were\n",
      "weren't\n",
      "what\n",
      "what's\n",
      "when\n",
      "when's\n",
      "where\n",
      "where's\n",
      "which\n",
      "while\n",
      "who\n",
      "who's\n",
      "whom\n",
      "why\n",
      "why's\n",
      "with\n",
      "won't\n",
      "would\n",
      "wouldn't\n",
      "you\n",
      "you'd\n",
      "you'll\n",
      "you're\n",
      "you've\n",
      "your\n",
      "yours\n",
      "yourself\n",
      "yourselves\n",
      "\"\"\"\n",
      "\n",
      "stop_words = stop_words.split()\n",
      "print stop_words"
     ],
     "language": "python",
     "metadata": {},
     "outputs": [
      {
       "output_type": "stream",
       "stream": "stdout",
       "text": [
        "['a', 'about', 'above', 'after', 'again', 'against', 'all', 'am', 'an', 'and', 'any', 'are', \"aren't\", 'as', 'at', 'be', 'because', 'been', 'before', 'being', 'below', 'between', 'both', 'but', 'by', \"can't\", 'cannot', 'could', \"couldn't\", 'did', \"didn't\", 'do', 'does', \"doesn't\", 'doing', \"don't\", 'down', 'during', 'each', 'few', 'for', 'from', 'further', 'had', \"hadn't\", 'has', \"hasn't\", 'have', \"haven't\", 'having', 'he', \"he'd\", \"he'll\", \"he's\", 'her', 'here', \"here's\", 'hers', 'herself', 'him', 'himself', 'his', 'how', \"how's\", 'i', \"i'd\", \"i'll\", \"i'm\", \"i've\", 'if', 'in', 'into', 'is', \"isn't\", 'it', \"it's\", 'its', 'itself', \"let's\", 'me', 'more', 'most', \"mustn't\", 'my', 'myself', 'no', 'nor', 'not', 'of', 'off', 'on', 'once', 'only', 'or', 'other', 'ought', 'our', 'ours', 'ourselves', 'out', 'over', 'own', 'same', \"shan't\", 'she', \"she'd\", \"she'll\", \"she's\", 'should', \"shouldn't\", 'so', 'some', 'such', 'than', 'that', \"that's\", 'the', 'their', 'theirs', 'them', 'themselves', 'then', 'there', \"there's\", 'these', 'they', \"they'd\", \"they'll\", \"they're\", \"they've\", 'this', 'those', 'through', 'to', 'too', 'under', 'until', 'up', 'very', 'was', \"wasn't\", 'we', \"we'd\", \"we'll\", \"we're\", \"we've\", 'were', \"weren't\", 'what', \"what's\", 'when', \"when's\", 'where', \"where's\", 'which', 'while', 'who', \"who's\", 'whom', 'why', \"why's\", 'with', \"won't\", 'would', \"wouldn't\", 'you', \"you'd\", \"you'll\", \"you're\", \"you've\", 'your', 'yours', 'yourself', 'yourselves']\n"
       ]
      }
     ],
     "prompt_number": 2
    },
    {
     "cell_type": "heading",
     "level": 2,
     "metadata": {},
     "source": [
      "Introduction"
     ]
    },
    {
     "cell_type": "markdown",
     "metadata": {},
     "source": [
      "Insert introduction here."
     ]
    },
    {
     "cell_type": "heading",
     "level": 2,
     "metadata": {},
     "source": [
      "Methods and Results"
     ]
    },
    {
     "cell_type": "markdown",
     "metadata": {},
     "source": [
      "Insert blurb about methods."
     ]
    },
    {
     "cell_type": "code",
     "collapsed": false,
     "input": [
      "def sample(comment_count, start=0, progress=None):\n",
      "    \"Sample the comment dump. Passed an int, returns that many comments as a list of dicts.\"\n",
      "    # open uncompressed September 2013 Reddit comment dump\n",
      "    f = open('dedupped-1-comment-per-line.json')\n",
      "    count = 0\n",
      "    comments = []\n",
      "    idx = 0\n",
      "    # dump is too big to read into memory, so we're using an iterator \n",
      "    for line in f:\n",
      "        if idx < start:\n",
      "            idx += 1\n",
      "            if progress is not None and idx % progress == 0:\n",
      "                print \"idx: {}\".format(idx)\n",
      "            continue\n",
      "\n",
      "        if count < comment_count:\n",
      "            comments.append(json.loads(line))\n",
      "            count += 1\n",
      "            if progress is not None and count % progress == 0:\n",
      "                print count\n",
      "                sys.stdout.flush()\n",
      "        else:\n",
      "            break\n",
      "    \n",
      "    return comments"
     ],
     "language": "python",
     "metadata": {},
     "outputs": [],
     "prompt_number": 3
    },
    {
     "cell_type": "code",
     "collapsed": false,
     "input": [
      "# how many comments are we actually dealing with?\n",
      "f = open('dedupped-1-comment-per-line.json')\n",
      "count = 0\n",
      "# dump is too big to read into memory, so we're using an iterator \n",
      "for line in f:\n",
      "    count += 1\n",
      "    \n",
      "print count"
     ],
     "language": "python",
     "metadata": {},
     "outputs": [
      {
       "output_type": "stream",
       "stream": "stdout",
       "text": [
        "15505576\n"
       ]
      }
     ],
     "prompt_number": 44
    },
    {
     "cell_type": "markdown",
     "metadata": {},
     "source": [
      "We're dealing with exactly 15,505,576 unique comments. Here's what a sample comment looks like."
     ]
    },
    {
     "cell_type": "code",
     "collapsed": false,
     "input": [
      "sample(1)\n"
     ],
     "language": "python",
     "metadata": {},
     "outputs": [
      {
       "metadata": {},
       "output_type": "pyout",
       "prompt_number": 21,
       "text": [
        "[{u'approved_by': None,\n",
        "  u'author': u'Hasaan5',\n",
        "  u'author_flair_css_class': u'other-quest',\n",
        "  u'author_flair_text': u'Do you even quest, bro? [Scaper since 2004] (I still hate suomi)',\n",
        "  u'banned_by': None,\n",
        "  u'body': u\"And then people will complain that it isn't exactly like the old one. They will never win over this.\",\n",
        "  u'body_html': u'&lt;div class=\"md\"&gt;&lt;p&gt;And then people will complain that it isn&amp;#39;t exactly like the old one. They will never win over this.&lt;/p&gt;\\n&lt;/div&gt;',\n",
        "  u'created': 1377723538.0,\n",
        "  u'created_utc': 1377694738.0,\n",
        "  u'distinguished': None,\n",
        "  u'downs': 0,\n",
        "  u'edited': False,\n",
        "  u'gilded': 0,\n",
        "  u'id': u'cbwxtsz',\n",
        "  u'likes': None,\n",
        "  u'link_id': u't3_1l8m7k',\n",
        "  u'link_title': u'Old-school overrides (suggestion)',\n",
        "  u'name': u't1_cbwxtsz',\n",
        "  u'num_reports': None,\n",
        "  u'parent_id': u't1_cbwx93k',\n",
        "  u'replies': None,\n",
        "  u'score_hidden': True,\n",
        "  u'subreddit': u'runescape',\n",
        "  u'subreddit_id': u't5_2qwxl',\n",
        "  u'ups': 1}]"
       ]
      }
     ],
     "prompt_number": 21
    },
    {
     "cell_type": "markdown",
     "metadata": {},
     "source": [
      "Which subreddits (i.e., Reddit communities) are these comments coming from?"
     ]
    },
    {
     "cell_type": "code",
     "collapsed": false,
     "input": [
      "def profile_comments(comments, metric):\n",
      "    \"Returns a dictionary with counts given a metric and a sample of comments.\"\n",
      "    items = {}\n",
      "    for comment in comments:\n",
      "        item = comment[metric]\n",
      "        if item in items.keys():\n",
      "            items[item] += 1\n",
      "        else:\n",
      "            items[item] = 1\n",
      "    \n",
      "    return items\n"
     ],
     "language": "python",
     "metadata": {},
     "outputs": [],
     "prompt_number": 4
    },
    {
     "cell_type": "code",
     "collapsed": false,
     "input": [
      "def visualize(title, item_count_dict, bar_color=dark2_colors[0], subplot=111):\n",
      "    \"Visualize sorted item and count data with a horizontal bar graph. Takes an item/count dict.\"\n",
      "    \n",
      "    # sort\n",
      "    items_counts_tuples = zip(item_count_dict.keys(), item_count_dict.values())\n",
      "\n",
      "    get_count = operator.itemgetter(1)\n",
      "    items_counts_tuples = sorted(items_counts_tuples, key=get_count, reverse=True)\n",
      "    \n",
      "    items, counts = [], []\n",
      "    for item, count in items_counts_tuples:\n",
      "        items.append(item)\n",
      "        counts.append(count)\n",
      "    \n",
      "    # plot\n",
      "    pos = np.arange(len(items))\n",
      "    \n",
      "    if str(subplot)[2] == '1':\n",
      "        plt.figure(figsize=(10, len(items)/3))\n",
      "    \n",
      "    plt.subplot(subplot)\n",
      "    \n",
      "    plt.title(title)\n",
      "    plt.barh(pos, counts, color=bar_color)\n",
      "    \n",
      "    # add the numbers to the side of each bar\n",
      "    for p, item, count in zip(pos, items, counts):\n",
      "            plt.annotate(str(count), xy=(count + 1000, p + .5), va='center')\n",
      "    \n",
      "    # customize ticks\n",
      "    ticks = plt.yticks(pos + .5, items)\n",
      "    xt = plt.xticks()[0]\n",
      "    plt.xticks(xt, [' '] * len(xt))\n",
      "    \n",
      "    # minimize chartjunk\n",
      "    remove_border(left=False, bottom=False)\n",
      "    plt.grid(axis = 'x', color ='white', linestyle='-')\n",
      "    \n",
      "    # set plot limits\n",
      "    plt.ylim(pos.max() + 1, pos.min())\n",
      "#     plt.xlim(0, xmax)\n",
      "    \n",
      "    plt.tight_layout()\n",
      "    plt.show()"
     ],
     "language": "python",
     "metadata": {},
     "outputs": [],
     "prompt_number": 60
    },
    {
     "cell_type": "code",
     "collapsed": false,
     "input": [
      "# toggle to find most highly represented subreddits (500k comment sample)\n",
      "# comments = sample(500000)\n",
      "# subreddit_counts = profile_comments(comments, 'subreddit')\n",
      "# truncated_subreddit_counts = {}\n",
      "# for subreddit, count in subreddit_counts.iteritems():\n",
      "#     if count >= 5000:\n",
      "#         truncated_subreddit_counts[subreddit] = count\n",
      "# print truncated_subreddit_counts"
     ],
     "language": "python",
     "metadata": {},
     "outputs": [
      {
       "metadata": {},
       "output_type": "pyout",
       "prompt_number": 54,
       "text": [
        "{u'AdviceAnimals': 15469,\n",
        " u'AskReddit': 53536,\n",
        " u'IAmA': 5945,\n",
        " u'WTF': 10242,\n",
        " u'funny': 14623,\n",
        " u'gaming': 12416,\n",
        " u'leagueoflegends': 10334,\n",
        " u'pics': 11005,\n",
        " u'soccer': 5621,\n",
        " u'todayilearned': 6131,\n",
        " u'worldnews': 8147}"
       ]
      }
     ],
     "prompt_number": 54
    },
    {
     "cell_type": "code",
     "collapsed": false,
     "input": [
      "# toggle to visualize results from above\n",
      "# visualize(\"Subreddit Sample Representation\", truncated_subreddit_counts)"
     ],
     "language": "python",
     "metadata": {},
     "outputs": [
      {
       "metadata": {},
       "output_type": "display_data",
       "png": "[encoded data removed]",
       "text": [
        "<matplotlib.figure.Figure at 0x1602e3b50>"
       ]
      }
     ],
     "prompt_number": 61
    },
    {
     "cell_type": "markdown",
     "metadata": {},
     "source": [
      "The comments primarily come from AskReddit, accounting for about 11% of comments. Many also come from AdviceAnimals and funny, each accounting for about 3% of comments. What are some of the most common words used in these comments?"
     ]
    },
    {
     "cell_type": "code",
     "collapsed": false,
     "input": [
      "# toggle to find most common words in comments\n",
      "# comments = sample(2000)\n",
      "# all_comment_text = [comment['body'] for comment in comments]\n",
      "# words = [re.findall(r'\\w+\\S*\\w+|\\w', text.lower()) for text in all_comment_text]\n",
      "# words = [item for sublist in words for item in sublist]\n",
      "\n",
      "# scrubbed_words = []\n",
      "# for word in words:\n",
      "#     if word in stop_words:\n",
      "#         continue\n",
      "#     else:\n",
      "#         scrubbed_words.append(word)\n",
      "\n",
      "# common_words = collections.Counter(scrubbed_words).most_common(25)\n",
      "# print common_words"
     ],
     "language": "python",
     "metadata": {},
     "outputs": [
      {
       "output_type": "stream",
       "stream": "stdout",
       "text": [
        "[(u'just', 294), (u'like', 283), (u'can', 255), (u'one', 206), (u'get', 204), (u'people', 197), (u'think', 173), (u'will', 172), (u'really', 138), (u'good', 128), (u'time', 118), (u'make', 113), (u'see', 112), (u'know', 110), (u'still', 105), (u'well', 104), (u'much', 100), (u'go', 96), (u'even', 91), (u'now', 90), (u'also', 88), (u'way', 88), (u'want', 86), (u'going', 86), (u'right', 83)]\n"
       ]
      }
     ],
     "prompt_number": 11
    },
    {
     "cell_type": "heading",
     "level": 3,
     "metadata": {},
     "source": [
      "Part 1: Harvesting Information"
     ]
    },
    {
     "cell_type": "markdown",
     "metadata": {},
     "source": [
      "Before we identify specific users, we want to assess the quality and quantity of personally identifying information in these 15 million comments. We can search for a number of keywords in the comment bodies, such as \"email\", \"birthday\", \"zip\", and \"address.\" With the help of regular expressions, we can also look for general Facebook URLs, Facebook profile URLs, phone numbers, email addresses, and Twitter handles."
     ]
    },
    {
     "cell_type": "code",
     "collapsed": false,
     "input": [
      "# comment keyword search\n",
      "import time\n",
      "\n",
      "def keyword_search(sample_size, keywords, start=0, progress=None):\n",
      "    \"Keywords is a list!\"\n",
      "    keyword_dict = dict((k,[]) for k in keywords)\n",
      "    field = 'body'\n",
      "    sample_start = time.time()\n",
      "    comments = sample(sample_size)\n",
      "    sample_end = time.time()\n",
      "    build_start = time.time()\n",
      "    for comment in comments:\n",
      "        words = re.findall(r'\\w+\\S*\\w+|\\w', comment['body'].lower())\n",
      "        for word in words:\n",
      "            if word in keywords:\n",
      "                keyword_dict[word].append(comment[field])\n",
      "    build_end = time.time()\n",
      "    \n",
      "    print \"Sampling time: {}; run time: {}\".format(sample_end - sample_start, build_end - build_start)\n",
      "                \n",
      "    for k,v in keyword_dict.iteritems():\n",
      "        print \"{}: {}\".format(k, len(v))\n",
      "        \n",
      "    return keyword_dict\n"
     ],
     "language": "python",
     "metadata": {},
     "outputs": [],
     "prompt_number": 6
    },
    {
     "cell_type": "code",
     "collapsed": false,
     "input": [
      "# search for older Facebook profile URLs; see below function for preferred search\n",
      "def facebook_profile_search(sample_size, start=0, progress=None):\n",
      "\n",
      "    comments = sample(sample_size, start=start, progress=progress)\n",
      "    profile_comments = []\n",
      "    for comment in comments:\n",
      "        if \"facebook.com/profile.php\" in comment['body'].lower():\n",
      "            profile_comments.append(comment)\n",
      "    print \"Found {} comments containing a Facebook Profile URL\".format(len(fb_comments))\n",
      "    \n",
      "    return profile_comments\n"
     ],
     "language": "python",
     "metadata": {},
     "outputs": [],
     "prompt_number": 8
    },
    {
     "cell_type": "markdown",
     "metadata": {},
     "source": [
      "We identified someone! The Facebook URL above redirects to a Page, but this user accidentally gave us his Facebook user id. We can visit https://facebook.com/profile.php?id=100000427775740 to view the Facebook Profile of a likely high school student named Austin Jenkins. Let's try being less specific."
     ]
    },
    {
     "cell_type": "code",
     "collapsed": false,
     "input": [
      "def facebook_search(sample_size, start=0, progress=None):\n",
      "    comments = sample(sample_size, start=start, progress=progress)\n",
      "    \n",
      "    fb_comments = []\n",
      "    for comment in comments:\n",
      "        if \"facebook.com/\" in comment['body'].lower():\n",
      "            fb_comments.append(comment)\n",
      "        \n",
      "    print \"Found {} comments containing a Facebook URL\".format(len(fb_comments))\n",
      "    \n",
      "    return fb_comments"
     ],
     "language": "python",
     "metadata": {},
     "outputs": [],
     "prompt_number": 9
    },
    {
     "cell_type": "code",
     "collapsed": false,
     "input": [
      "# heuristic for checking if a comment has the phrase zip code\n",
      "# for text in keyword_dict['zip']:\n",
      "#     if 'code' in re.findall(r'\\w+\\S*\\w+|\\w', text.lower()):\n",
      "#         print text"
     ],
     "language": "python",
     "metadata": {},
     "outputs": [],
     "prompt_number": 3
    },
    {
     "cell_type": "code",
     "collapsed": false,
     "input": [
      "def email_twitter_search(sample_size, start=0, progress=None):\n",
      "    comments = sample(sample_size, start=start, progress=progress)\n",
      "\n",
      "    at_comments = []\n",
      "    print \"Searching for email addresses and Twitter handles in {} comments, beginning at index {}.\".format(sample_size, start)\n",
      "    for comment in comments:\n",
      "        words = re.findall(r'\\S*@\\S+', comment['body'].lower())\n",
      "        if len(words) > 0:\n",
      "            at_comments.append(comment)\n",
      "#             print words\n",
      "            \n",
      "    print \"Found {} comments containing an email or Twitter handle\".format(len(at_comments))\n",
      "    \n",
      "    return at_comments\n"
     ],
     "language": "python",
     "metadata": {},
     "outputs": [],
     "prompt_number": 10
    },
    {
     "cell_type": "code",
     "collapsed": false,
     "input": [
      "def phone_search(sample_size, start=0, progress=None):\n",
      "    comments = sample(sample_size, start=start, progress=progress)\n",
      "\n",
      "    phone_comments = []\n",
      "    print \"Searching for phone numbers in {} comments, beginning at index {}.\".format(sample_size, start)\n",
      "    for comment in comments:\n",
      "        # phone number regex from http://stackoverflow.com/questions/123559/a-comprehensive-regex-for-phone-number-validation\n",
      "        words = re.findall(r'^(?:(?:\\+?1\\s*(?:[.-]\\s*)?)?(?:\\(\\s*([2-9]1[02-9]|[2-9][02-8]1|[2-9][02-8][02-9])\\s*\\)|([2-9]1[02-9]|[2-9][02-8]1|[2-9][02-8][02-9]))\\s*(?:[.-]\\s*)?)?([2-9]1[02-9]|[2-9][02-9]1|[2-9][02-9]{2})\\s*(?:[.-]\\s*)?([0-9]{4})(?:\\s*(?:#|x\\.?|ext\\.?|extension)\\s*(\\d+))?$', comment['body'].lower())\n",
      "        if len(words) > 0:\n",
      "            phone_comments.append(comment)\n",
      "#             print words\n",
      "            \n",
      "    print \"Found {} comments containing a phone number\".format(len(phone_comments))\n",
      "    \n",
      "    return phone_comments"
     ],
     "language": "python",
     "metadata": {},
     "outputs": [],
     "prompt_number": 11
    },
    {
     "cell_type": "code",
     "collapsed": false,
     "input": [
      "sample_size = 1000000\n",
      "start=0\n",
      "progress=100000\n",
      "email_and_twitter = email_twitter_search(sample_size, start=start, progress=progress)\n",
      "phone = phone_search(sample_size, start=start, progress=progress)\n",
      "profile = facebook_profile_search(sample_size, start=start, progress=progress)\n",
      "fb_comments = facebook_search(sample_size, start=start, progress=progress)\n",
      "\n"
     ],
     "language": "python",
     "metadata": {},
     "outputs": []
    },
    {
     "cell_type": "markdown",
     "metadata": {},
     "source": [
      "Iterative searching like the above is a waste of time. It requires multiple passes of all 15 million comments, which means it is slow. A faster way of searching for the information is to conduct all searches in a single pass."
     ]
    },
    {
     "cell_type": "code",
     "collapsed": false,
     "input": [
      "def search(sample_size, conds, keywords, logpath=None, start=0, progress=None):\n",
      "    print \"Sampling...\"\n",
      "    comments = sample(sample_size, start=start, progress=progress)\n",
      "    print \"Searching in {} comments, beginning at index {}.\".format(sample_size, start)\n",
      "\n",
      "    # build dictionary for results\n",
      "#     res_comments = dict((cond[\"name\"],[]) for cond in conds)\n",
      "    \n",
      "    # backup dict for ids for writing (speeds up writes)\n",
      "    res_ids = dict((cond[\"name\"],[]) for cond in conds)\n",
      "    for keyword in keywords:\n",
      "        res_ids[keyword] = []\n",
      "    \n",
      "    # seperate dict for keyword results\n",
      "#     keyword_dict = dict((k,[]) for k in keywords)\n",
      "\n",
      "    # open file for logging\n",
      "    if logpath is not None:\n",
      "        logfile = open(logpath, 'a+')\n",
      "        \n",
      "    # go over each comment (and each function for each comment)\n",
      "    for idx,comment in enumerate(comments):\n",
      "        for cond in conds:\n",
      "            if cond[\"f\"](comment):\n",
      "#                 res_comments[cond[\"name\"]].append(comment)\n",
      "                # add to res_ids for fast writing\n",
      "                res_ids[cond[\"name\"]].append(comment['id'])\n",
      "        \n",
      "        # keyword search (kinda hacked in)\n",
      "        words = re.findall(r'\\w+\\S*\\w+|\\w', comment['body'].lower())\n",
      "        for word in words:\n",
      "            if word in keywords:\n",
      "#                 keyword_dict[word].append(comment)\n",
      "                \n",
      "                # add to res_ids for fast writing (keyword and condition name cannot overlap)\n",
      "                res_ids[word].append(comment['id'])\n",
      "        \n",
      "        # optional progress print\n",
      "        if progress is not None and idx % progress == 0:\n",
      "            print idx\n",
      "            sys.stdout.flush()    \n",
      "            \n",
      "            # log ids\n",
      "            if logfile is not None:\n",
      "                logfile.write(json.dumps(res_ids)+'\\n')\n",
      "    \n",
      "    # print results\n",
      "    for name in res_ids:\n",
      "        if name in keywords:\n",
      "            print \"Found {} comments containing \\\"{}\\\"\".format(len(res_ids[name]), name)\n",
      "        else:\n",
      "            print \"Found {} comments containing a {}\".format(len(res_ids[name]), name)\n",
      "\n",
      "#     res_comments[\"keywords\"] = keyword_dict\n",
      "    \n",
      "    return res_ids"
     ],
     "language": "python",
     "metadata": {},
     "outputs": [],
     "prompt_number": 32
    },
    {
     "cell_type": "code",
     "collapsed": false,
     "input": [
      "def contains_phone(comment):\n",
      "    # phone number regex from http://stackoverflow.com/questions/3868753/find-phone-numbers-in-python-script\n",
      "    words = re.findall(r'\\W(\\d{3}-)?\\d{3}-\\d{4}\\W', comment['body'].lower())\n",
      "    return len(words) > 0\n",
      "\n",
      "def contains_email_twitter(comment):\n",
      "    words = re.findall(r'\\S*@\\S+', comment['body'].lower())\n",
      "    return len(words) > 0\n",
      "\n",
      "def contains_facebook(comment):\n",
      "    return \"facebook.com/\" in comment['body'].lower()\n",
      "\n",
      "def contains_facebook_profile(comment):\n",
      "    return \"facebook.com/profile.php\" in comment['body'].lower()\n",
      "\n"
     ],
     "language": "python",
     "metadata": {},
     "outputs": [],
     "prompt_number": 13
    },
    {
     "cell_type": "code",
     "collapsed": false,
     "input": [
      "test_text = \"this is a phone number 123-719 yeah it is\"\n",
      "test_comment = {\"body\":test_text}\n",
      "contains_phone(test_comment)"
     ],
     "language": "python",
     "metadata": {},
     "outputs": [
      {
       "metadata": {},
       "output_type": "pyout",
       "prompt_number": 14,
       "text": [
        "False"
       ]
      }
     ],
     "prompt_number": 14
    },
    {
     "cell_type": "code",
     "collapsed": false,
     "input": [
      "conds = [{\"name\": \"phone number\", \"f\": contains_phone}, {\"name\": \"email/twitter\", \"f\": contains_email_twitter}, {\"name\": \"facebook url\", \"f\": contains_facebook}, {\"name\": \"facebook profile\", \"f\": contains_facebook_profile}]\n",
      "keywords = [\"email\", \"birthday\", \"zip\", \"address\"]\n",
      "\n",
      "# toggle to run our search on 15 1M comment samples\n",
      "# results_0 = search(1000000, conds, keywords, logpath=\"gov-0.log\", start=0, progress=250000)\n",
      "# results_1 = search(1000000, conds, keywords, logpath=\"gov-1.log\", start=1000000, progress=250000)\n",
      "# results_2 = search(1000000, conds, keywords, logpath=\"gov-2.log\", start=2000000, progress=250000)\n",
      "# results_3 = search(1000000, conds, keywords, logpath=\"gov-3.log\", start=3000000, progress=250000)\n",
      "# results_4 = search(1000000, conds, keywords, logpath=\"gov-4.log\", start=4000000, progress=250000)\n",
      "# results_5 = search(1000000, conds, keywords, logpath=\"gov-5.log\", start=5000000, progress=250000)\n",
      "# results_6 = search(1000000, conds, keywords, logpath=\"gov-6.log\", start=6000000, progress=250000)\n",
      "# results_7 = search(1000000, conds, keywords, logpath=\"gov-7.log\", start=7000000, progress=250000)\n",
      "# results_8 = search(1000000, conds, keywords, logpath=\"gov-8.log\", start=8000000, progress=250000)\n",
      "# results_9 = search(1000000, conds, keywords, logpath=\"gov-9.log\", start=9000000, progress=250000)\n",
      "# results_10 = search(1000000, conds, keywords, logpath=\"gov-10.log\", start=10000000, progress=250000)\n",
      "# results_11 = search(1000000, conds, keywords, logpath=\"gov-11.log\", start=11000000, progress=250000)\n",
      "# results_12 = search(1000000, conds, keywords, logpath=\"gov-12.log\", start=12000000, progress=250000)\n",
      "# results_13 = search(1000000, conds, keywords, logpath=\"gov-13.log\", start=13000000, progress=250000)\n",
      "# results_14 = search(1000000, conds, keywords, logpath=\"gov-14.log\", start=14000000, progress=250000)\n",
      "\n",
      "\n",
      "# cleaned output\n",
      "# Sample 0\n",
      "# Found 1 comments containing a facebook profile\n",
      "# Found 244 comments containing \"zip\"\n",
      "# Found 146 comments containing a phone number\n",
      "# Found 1068 comments containing a email/twitter\n",
      "# Found 1258 comments containing \"birthday\"\n",
      "# Found 1704 comments containing \"address\"\n",
      "# Found 331 comments containing a facebook url\n",
      "# Found 1927 comments containing \"email\"\n",
      "# Sample 1\n",
      "# Found 1 comments containing a facebook profile\n",
      "# Found 258 comments containing \"zip\"\n",
      "# Found 135 comments containing a phone number\n",
      "# Found 1027 comments containing a email/twitter\n",
      "# Found 1366 comments containing \"birthday\"\n",
      "# Found 1813 comments containing \"address\"\n",
      "# Found 310 comments containing a facebook url\n",
      "# Found 1583 comments containing \"email\"\n",
      "# Sample 2\n",
      "# Found 1 comments containing a facebook profile\n",
      "# Found 191 comments containing \"zip\"\n",
      "# Found 138 comments containing a phone number\n",
      "# Found 1003 comments containing a email/twitter\n",
      "# Found 1360 comments containing \"birthday\"\n",
      "# Found 1691 comments containing \"address\"\n",
      "# Found 301 comments containing a facebook url\n",
      "# Found 1739 comments containing \"email\"\n",
      "# Sample 3\n",
      "# Found 1 comments containing a facebook profile\n",
      "# Found 204 comments containing \"zip\"\n",
      "# Found 104 comments containing a phone number\n",
      "# Found 1030 comments containing a email/twitter\n",
      "# Found 1503 comments containing \"birthday\"\n",
      "# Found 1530 comments containing \"address\"\n",
      "# Found 253 comments containing a facebook url\n",
      "# Found 1327 comments containing \"email\"\n",
      "# Sample 4\n",
      "# Found 0 comments containing a facebook profile\n",
      "# Found 310 comments containing \"zip\"\n",
      "# Found 104 comments containing a phone number\n",
      "# Found 1095 comments containing a email/twitter\n",
      "# Found 1395 comments containing \"birthday\"\n",
      "# Found 1439 comments containing \"address\"\n",
      "# Found 257 comments containing a facebook url\n",
      "# Found 1473 comments containing \"email\"\n",
      "# Sample 5\n",
      "# Found 0 comments containing a facebook profile\n",
      "# Found 237 comments containing \"zip\"\n",
      "# Found 135 comments containing a phone number\n",
      "# Found 1167 comments containing a email/twitter\n",
      "# Found 1352 comments containing \"birthday\"\n",
      "# Found 1550 comments containing \"address\"\n",
      "# Found 283 comments containing a facebook url\n",
      "# Found 1447 comments containing \"email\"\n",
      "# Sample 6\n",
      "# Found 0 comments containing a facebook profile\n",
      "# Found 202 comments containing \"zip\"\n",
      "# Found 107 comments containing a phone number\n",
      "# Found 1006 comments containing a email/twitter\n",
      "# Found 1586 comments containing \"birthday\"\n",
      "# Found 1635 comments containing \"address\"\n",
      "# Found 322 comments containing a facebook url\n",
      "# Found 1714 comments containing \"email\"\n",
      "# Sample 7\n",
      "# Found 2 comments containing a facebook profile\n",
      "# Found 229 comments containing \"zip\"\n",
      "# Found 142 comments containing a phone number\n",
      "# Found 1074 comments containing a email/twitter\n",
      "# Found 1519 comments containing \"birthday\"\n",
      "# Found 1641 comments containing \"address\"\n",
      "# Found 377 comments containing a facebook url\n",
      "# Found 1948 comments containing \"email\"\n",
      "# Sample 8\n",
      "# Found 2 comments containing a facebook profile\n",
      "# Found 220 comments containing \"zip\"\n",
      "# Found 123 comments containing a phone number\n",
      "# Found 1011 comments containing a email/twitter\n",
      "# Found 1339 comments containing \"birthday\"\n",
      "# Found 1616 comments containing \"address\"\n",
      "# Found 351 comments containing a facebook url\n",
      "# Found 1976 comments containing \"email\"\n",
      "# Sample 9\n",
      "# Found 2 comments containing a facebook profile\n",
      "# Found 204 comments containing \"zip\"\n",
      "# Found 131 comments containing a phone number\n",
      "# Found 982 comments containing a email/twitter\n",
      "# Found 1464 comments containing \"birthday\"\n",
      "# Found 1592 comments containing \"address\"\n",
      "# Found 364 comments containing a facebook url\n",
      "# Found 1811 comments containing \"email\"\n",
      "# Sample 10\n",
      "# Found 4 comments containing a facebook profile\n",
      "# Found 212 comments containing \"zip\"\n",
      "# Found 109 comments containing a phone number\n",
      "# Found 984 comments containing a email/twitter\n",
      "# Found 1598 comments containing \"birthday\"\n",
      "# Found 1364 comments containing \"address\"\n",
      "# Found 363 comments containing a facebook url\n",
      "# Found 1465 comments containing \"email\"\n",
      "# Sample 11\n",
      "# Found 3 comments containing a facebook profile\n",
      "# Found 217 comments containing \"zip\"\n",
      "# Found 116 comments containing a phone number\n",
      "# Found 892 comments containing a email/twitter\n",
      "# Found 1451 comments containing \"birthday\"\n",
      "# Found 1392 comments containing \"address\"\n",
      "# Found 286 comments containing a facebook url\n",
      "# Found 1341 comments containing \"email\"\n",
      "# Sample 12\n",
      "# Found 0 comments containing a facebook profile\n",
      "# Found 198 comments containing \"zip\"\n",
      "# Found 157 comments containing a phone number\n",
      "# Found 1011 comments containing a email/twitter\n",
      "# Found 1424 comments containing \"birthday\"\n",
      "# Found 1642 comments containing \"address\"\n",
      "# Found 341 comments containing a facebook url\n",
      "# Found 1582 comments containing \"email\"\n",
      "# Sample 13\n",
      "# Found 2 comments containing a facebook profile\n",
      "# Found 219 comments containing \"zip\"\n",
      "# Found 117 comments containing a phone number\n",
      "# Found 983 comments containing a email/twitter\n",
      "# Found 1494 comments containing \"birthday\"\n",
      "# Found 1790 comments containing \"address\"\n",
      "# Found 325 comments containing a facebook url\n",
      "# Found 1669 comments containing \"email\"\n",
      "# Sample 14\n",
      "# Found 0 comments containing a facebook profile\n",
      "# Found 230 comments containing \"zip\"\n",
      "# Found 133 comments containing a phone number\n",
      "# Found 971 comments containing a email/twitter\n",
      "# Found 1836 comments containing \"birthday\"\n",
      "# Found 1686 comments containing \"address\"\n",
      "# Found 360 comments containing a facebook url\n",
      "# Found 1851 comments containing \"email\"\n",
      "\n",
      "\n",
      "# summed\n",
      "facebook_profile_ct = 1+1+1+1+0+0+0+2+2+2+4+3+0+2+0\n",
      "zip_keyword_ct = 244+258+191+204+310+237+202+229+220+204+212+217+198+219+230\n",
      "phone_number_ct = 146+135+138+104+104+135+107+142+123+131+109+116+157+117+133\n",
      "email_twitter_ct = 1068+1027+1003+1030+1095+1167+1006+1074+1011+982+984+892+1011+983+971\n",
      "birthday_keyword_ct = 1258+1366+1360+1503+1395+1352+1586+1519+1339+1464+1598+1451+1424+1494+1836\n",
      "address_keyword_ct = 1704+1813+1691+1530+1439+1550+1635+1641+1616+1592+1364+1392+1642+1790+1686\n",
      "facebook_url_ct = 331+310+301+253+257+283+322+377+351+364+363+286+341+325+360\n",
      "email_keyword_ct = 1927+1583+1739+1327+1473+1447+1714+1948+1976+1811+1465+1341+1582+1669+1851\n",
      "\n",
      "print \"We found:\"\n",
      "print \"{} hits for 'zip', {} hits for 'birthday', {} hits for 'address', and {} hits for 'email'\".format(zip_keyword_ct,\n",
      "                                                                                                         birthday_keyword_ct,\n",
      "                                                                                                         address_keyword_ct,\n",
      "                                                                                                         email_keyword_ct)\n",
      "print \"{} Facebook URLs\".format(facebook_url_ct)\n",
      "print \"{} likely Facebook profiles\".format(facebook_profile_ct) \n",
      "print \"{} likely phone numbers\".format(phone_number_ct)\n",
      "print \"{} likely Twitter handles or email addresses\".format(email_twitter_ct)"
     ],
     "language": "python",
     "metadata": {},
     "outputs": [
      {
       "output_type": "stream",
       "stream": "stdout",
       "text": [
        "We found:\n",
        "3375 hits for 'zip', 21945 hits for 'birthday', 24085 hits for 'address', and 24853 hits for 'email'\n",
        "4824 Facebook URLs\n",
        "19 likely Facebook profiles\n",
        "1897 likely phone numbers\n",
        "15304 likely Twitter handles or email addresses\n"
       ]
      }
     ],
     "prompt_number": 43
    },
    {
     "cell_type": "code",
     "collapsed": false,
     "input": [
      "# toggle to write the results from above to their own files\n",
      "# open('results-0.json','w').write(json.dumps(results_0))\n",
      "# open('results-1.json','w').write(json.dumps(results_1))\n",
      "# open('results-2.json','w').write(json.dumps(results_2))\n",
      "# open('results-3.json','w').write(json.dumps(results_3))\n",
      "# open('results-4.json','w').write(json.dumps(results_4))\n",
      "# open('results-5.json','w').write(json.dumps(results_5))\n",
      "# open('results-6.json','w').write(json.dumps(results_6))\n",
      "# open('results-7.json','w').write(json.dumps(results_7))\n",
      "# open('results-8.json','w').write(json.dumps(results_8))\n",
      "# open('results-9.json','w').write(json.dumps(results_9))\n",
      "# open('results-10.json','w').write(json.dumps(results_10))\n",
      "# open('results-11.json','w').write(json.dumps(results_11))\n",
      "# open('results-12.json','w').write(json.dumps(results_12))\n",
      "# open('results-13.json','w').write(json.dumps(results_13))\n",
      "# open('results-14.json','w').write(json.dumps(results_14))"
     ],
     "language": "python",
     "metadata": {},
     "outputs": [],
     "prompt_number": 40
    },
    {
     "cell_type": "code",
     "collapsed": false,
     "input": [
      "# toggle to read in results data from above\n",
      "results_0 = json.loads(open('data/results-0.json').read())\n",
      "results_1 = json.loads(open('data/results-1.json').read())\n",
      "results_2 = json.loads(open('data/results-2.json').read())\n",
      "results_3 = json.loads(open('data/results-3.json').read())\n",
      "results_4 = json.loads(open('data/results-4.json').read())\n",
      "results_5 = json.loads(open('data/results-5.json').read())\n",
      "results_6 = json.loads(open('data/results-6.json').read())\n",
      "results_7 = json.loads(open('data/results-7.json').read())\n",
      "results_8 = json.loads(open('data/results-8.json').read())\n",
      "results_9 = json.loads(open('data/results-9.json').read())\n",
      "results_10 = json.loads(open('data/results-10.json').read())\n",
      "results_11 = json.loads(open('data/results-11.json').read())\n",
      "results_12 = json.loads(open('data/results-12.json').read())\n",
      "results_13 = json.loads(open('data/results-13.json').read())\n",
      "results_14 = json.loads(open('data/results-14.json').read())\n"
     ],
     "language": "python",
     "metadata": {},
     "outputs": [],
     "prompt_number": 9
    },
    {
     "cell_type": "code",
     "collapsed": false,
     "input": [
      "def comment_lookup(results_obj, sample_size, sample_start, filename):    \n",
      "    temp = {}\n",
      "    for key in results_obj:\n",
      "        temp[key] = []\n",
      "    \n",
      "    comments = sample(sample_size, start=sample_start, progress=250000)\n",
      "    count = 0\n",
      "    for comment in comments:\n",
      "        if count % 250000 == 0:\n",
      "            print \"Inspecting comment #{}\".format(count)\n",
      "            sys.stdout.flush()\n",
      "        comment_id = comment['id']\n",
      "        for key in results_obj:\n",
      "            if comment_id in results_obj[key]:\n",
      "                temp[key].append(comment)\n",
      "        count += 1\n",
      "    \n",
      "    open(filename+'.json','w').write(json.dumps(temp))"
     ],
     "language": "python",
     "metadata": {},
     "outputs": [],
     "prompt_number": 26
    },
    {
     "cell_type": "code",
     "collapsed": false,
     "input": [
      "# comment_lookup(results_0, 1000000, 0, 'comments_0')\n",
      "comment_lookup(results_1, 1000000, 1000000, 'comments_1')\n",
      "comment_lookup(results_2, 1000000, 2000000, 'comments_2')\n",
      "comment_lookup(results_3, 1000000, 3000000, 'comments_3')\n",
      "comment_lookup(results_4, 1000000, 4000000, 'comments_4')\n",
      "comment_lookup(results_5, 1000000, 5000000, 'comments_5')\n",
      "comment_lookup(results_6, 1000000, 6000000, 'comments_6')\n",
      "comment_lookup(results_7, 1000000, 7000000, 'comments_7')\n",
      "comment_lookup(results_8, 1000000, 8000000, 'comments_8')\n",
      "comment_lookup(results_9, 1000000, 9000000, 'comments_9')\n",
      "comment_lookup(results_10, 1000000, 10000000, 'comments_10')\n",
      "comment_lookup(results_11, 1000000, 11000000, 'comments_11')\n",
      "comment_lookup(results_12, 1000000, 12000000, 'comments_12')\n",
      "comment_lookup(results_13, 1000000, 13000000, 'comments_13')\n",
      "comment_lookup(results_14, 1000000, 14000000, 'comments_14')"
     ],
     "language": "python",
     "metadata": {},
     "outputs": [
      {
       "output_type": "stream",
       "stream": "stdout",
       "text": [
        "idx: 250000\n",
        "idx: 500000"
       ]
      },
      {
       "output_type": "stream",
       "stream": "stdout",
       "text": [
        "\n",
        "idx: 750000"
       ]
      },
      {
       "output_type": "stream",
       "stream": "stdout",
       "text": [
        "\n",
        "idx: 1000000"
       ]
      },
      {
       "output_type": "stream",
       "stream": "stdout",
       "text": [
        "\n",
        "250000"
       ]
      },
      {
       "output_type": "stream",
       "stream": "stdout",
       "text": [
        "\n"
       ]
      },
      {
       "output_type": "stream",
       "stream": "stdout",
       "text": [
        "500000\n"
       ]
      },
      {
       "output_type": "stream",
       "stream": "stdout",
       "text": [
        "750000\n"
       ]
      },
      {
       "output_type": "stream",
       "stream": "stdout",
       "text": [
        "1000000\n"
       ]
      },
      {
       "output_type": "stream",
       "stream": "stdout",
       "text": [
        "Inspecting comment #0\n"
       ]
      },
      {
       "output_type": "stream",
       "stream": "stdout",
       "text": [
        "Inspecting comment #250000\n"
       ]
      },
      {
       "output_type": "stream",
       "stream": "stdout",
       "text": [
        "Inspecting comment #500000\n"
       ]
      },
      {
       "output_type": "stream",
       "stream": "stdout",
       "text": [
        "Inspecting comment #750000\n"
       ]
      },
      {
       "output_type": "stream",
       "stream": "stdout",
       "text": [
        "idx: 250000\n",
        "idx: 500000"
       ]
      },
      {
       "output_type": "stream",
       "stream": "stdout",
       "text": [
        "\n",
        "idx: 750000"
       ]
      },
      {
       "output_type": "stream",
       "stream": "stdout",
       "text": [
        "\n",
        "idx: 1000000"
       ]
      },
      {
       "output_type": "stream",
       "stream": "stdout",
       "text": [
        "\n",
        "idx: 1250000"
       ]
      },
      {
       "output_type": "stream",
       "stream": "stdout",
       "text": [
        "\n",
        "idx: 1500000"
       ]
      },
      {
       "output_type": "stream",
       "stream": "stdout",
       "text": [
        "\n",
        "idx: 1750000"
       ]
      },
      {
       "output_type": "stream",
       "stream": "stdout",
       "text": [
        "\n",
        "idx: 2000000"
       ]
      },
      {
       "output_type": "stream",
       "stream": "stdout",
       "text": [
        "\n",
        "250000"
       ]
      },
      {
       "output_type": "stream",
       "stream": "stdout",
       "text": [
        "\n"
       ]
      },
      {
       "output_type": "stream",
       "stream": "stdout",
       "text": [
        "500000\n"
       ]
      },
      {
       "output_type": "stream",
       "stream": "stdout",
       "text": [
        "750000\n"
       ]
      },
      {
       "output_type": "stream",
       "stream": "stdout",
       "text": [
        "1000000\n"
       ]
      },
      {
       "output_type": "stream",
       "stream": "stdout",
       "text": [
        "Inspecting comment #0\n"
       ]
      },
      {
       "output_type": "stream",
       "stream": "stdout",
       "text": [
        "Inspecting comment #250000\n"
       ]
      },
      {
       "output_type": "stream",
       "stream": "stdout",
       "text": [
        "Inspecting comment #500000\n"
       ]
      },
      {
       "output_type": "stream",
       "stream": "stdout",
       "text": [
        "Inspecting comment #750000\n"
       ]
      },
      {
       "output_type": "stream",
       "stream": "stdout",
       "text": [
        "idx: 250000\n",
        "idx: 500000"
       ]
      },
      {
       "output_type": "stream",
       "stream": "stdout",
       "text": [
        "\n",
        "idx: 750000"
       ]
      },
      {
       "output_type": "stream",
       "stream": "stdout",
       "text": [
        "\n",
        "idx: 1000000"
       ]
      },
      {
       "output_type": "stream",
       "stream": "stdout",
       "text": [
        "\n",
        "idx: 1250000"
       ]
      },
      {
       "output_type": "stream",
       "stream": "stdout",
       "text": [
        "\n",
        "idx: 1500000"
       ]
      },
      {
       "output_type": "stream",
       "stream": "stdout",
       "text": [
        "\n",
        "idx: 1750000"
       ]
      },
      {
       "output_type": "stream",
       "stream": "stdout",
       "text": [
        "\n",
        "idx: 2000000"
       ]
      },
      {
       "output_type": "stream",
       "stream": "stdout",
       "text": [
        "\n",
        "idx: 2250000"
       ]
      },
      {
       "output_type": "stream",
       "stream": "stdout",
       "text": [
        "\n",
        "idx: 2500000"
       ]
      },
      {
       "output_type": "stream",
       "stream": "stdout",
       "text": [
        "\n",
        "idx: 2750000"
       ]
      },
      {
       "output_type": "stream",
       "stream": "stdout",
       "text": [
        "\n",
        "idx: 3000000"
       ]
      },
      {
       "output_type": "stream",
       "stream": "stdout",
       "text": [
        "\n",
        "250000"
       ]
      },
      {
       "output_type": "stream",
       "stream": "stdout",
       "text": [
        "\n"
       ]
      },
      {
       "output_type": "stream",
       "stream": "stdout",
       "text": [
        "500000\n"
       ]
      },
      {
       "output_type": "stream",
       "stream": "stdout",
       "text": [
        "750000\n"
       ]
      },
      {
       "output_type": "stream",
       "stream": "stdout",
       "text": [
        "1000000\n"
       ]
      },
      {
       "output_type": "stream",
       "stream": "stdout",
       "text": [
        "Inspecting comment #0\n"
       ]
      },
      {
       "output_type": "stream",
       "stream": "stdout",
       "text": [
        "Inspecting comment #250000\n"
       ]
      },
      {
       "output_type": "stream",
       "stream": "stdout",
       "text": [
        "Inspecting comment #500000\n"
       ]
      },
      {
       "output_type": "stream",
       "stream": "stdout",
       "text": [
        "Inspecting comment #750000\n"
       ]
      },
      {
       "output_type": "stream",
       "stream": "stdout",
       "text": [
        "idx: 250000\n",
        "idx: 500000"
       ]
      },
      {
       "output_type": "stream",
       "stream": "stdout",
       "text": [
        "\n",
        "idx: 750000"
       ]
      },
      {
       "output_type": "stream",
       "stream": "stdout",
       "text": [
        "\n",
        "idx: 1000000"
       ]
      },
      {
       "output_type": "stream",
       "stream": "stdout",
       "text": [
        "\n",
        "idx: 1250000"
       ]
      },
      {
       "output_type": "stream",
       "stream": "stdout",
       "text": [
        "\n",
        "idx: 1500000"
       ]
      },
      {
       "output_type": "stream",
       "stream": "stdout",
       "text": [
        "\n",
        "idx: 1750000"
       ]
      },
      {
       "output_type": "stream",
       "stream": "stdout",
       "text": [
        "\n",
        "idx: 2000000"
       ]
      },
      {
       "output_type": "stream",
       "stream": "stdout",
       "text": [
        "\n",
        "idx: 2250000"
       ]
      },
      {
       "output_type": "stream",
       "stream": "stdout",
       "text": [
        "\n",
        "idx: 2500000"
       ]
      },
      {
       "output_type": "stream",
       "stream": "stdout",
       "text": [
        "\n",
        "idx: 2750000"
       ]
      },
      {
       "output_type": "stream",
       "stream": "stdout",
       "text": [
        "\n",
        "idx: 3000000"
       ]
      },
      {
       "output_type": "stream",
       "stream": "stdout",
       "text": [
        "\n",
        "idx: 3250000"
       ]
      },
      {
       "output_type": "stream",
       "stream": "stdout",
       "text": [
        "\n",
        "idx: 3500000"
       ]
      },
      {
       "output_type": "stream",
       "stream": "stdout",
       "text": [
        "\n",
        "idx: 3750000"
       ]
      },
      {
       "output_type": "stream",
       "stream": "stdout",
       "text": [
        "\n",
        "idx: 4000000"
       ]
      },
      {
       "output_type": "stream",
       "stream": "stdout",
       "text": [
        "\n",
        "250000"
       ]
      },
      {
       "output_type": "stream",
       "stream": "stdout",
       "text": [
        "\n"
       ]
      },
      {
       "output_type": "stream",
       "stream": "stdout",
       "text": [
        "500000\n"
       ]
      },
      {
       "output_type": "stream",
       "stream": "stdout",
       "text": [
        "750000\n"
       ]
      },
      {
       "output_type": "stream",
       "stream": "stdout",
       "text": [
        "1000000\n"
       ]
      },
      {
       "output_type": "stream",
       "stream": "stdout",
       "text": [
        "Inspecting comment #0\n"
       ]
      },
      {
       "output_type": "stream",
       "stream": "stdout",
       "text": [
        "Inspecting comment #250000\n"
       ]
      },
      {
       "output_type": "stream",
       "stream": "stdout",
       "text": [
        "Inspecting comment #500000\n"
       ]
      },
      {
       "output_type": "stream",
       "stream": "stdout",
       "text": [
        "Inspecting comment #750000\n"
       ]
      },
      {
       "output_type": "stream",
       "stream": "stdout",
       "text": [
        "idx: 250000\n",
        "idx: 500000"
       ]
      },
      {
       "output_type": "stream",
       "stream": "stdout",
       "text": [
        "\n",
        "idx: 750000"
       ]
      },
      {
       "output_type": "stream",
       "stream": "stdout",
       "text": [
        "\n",
        "idx: 1000000"
       ]
      },
      {
       "output_type": "stream",
       "stream": "stdout",
       "text": [
        "\n",
        "idx: 1250000"
       ]
      },
      {
       "output_type": "stream",
       "stream": "stdout",
       "text": [
        "\n",
        "idx: 1500000"
       ]
      },
      {
       "output_type": "stream",
       "stream": "stdout",
       "text": [
        "\n",
        "idx: 1750000"
       ]
      },
      {
       "output_type": "stream",
       "stream": "stdout",
       "text": [
        "\n",
        "idx: 2000000"
       ]
      },
      {
       "output_type": "stream",
       "stream": "stdout",
       "text": [
        "\n",
        "idx: 2250000"
       ]
      },
      {
       "output_type": "stream",
       "stream": "stdout",
       "text": [
        "\n",
        "idx: 2500000"
       ]
      },
      {
       "output_type": "stream",
       "stream": "stdout",
       "text": [
        "\n",
        "idx: 2750000"
       ]
      },
      {
       "output_type": "stream",
       "stream": "stdout",
       "text": [
        "\n",
        "idx: 3000000"
       ]
      },
      {
       "output_type": "stream",
       "stream": "stdout",
       "text": [
        "\n",
        "idx: 3250000"
       ]
      },
      {
       "output_type": "stream",
       "stream": "stdout",
       "text": [
        "\n",
        "idx: 3500000"
       ]
      },
      {
       "output_type": "stream",
       "stream": "stdout",
       "text": [
        "\n",
        "idx: 3750000"
       ]
      },
      {
       "output_type": "stream",
       "stream": "stdout",
       "text": [
        "\n",
        "idx: 4000000"
       ]
      },
      {
       "output_type": "stream",
       "stream": "stdout",
       "text": [
        "\n",
        "idx: 4250000"
       ]
      },
      {
       "output_type": "stream",
       "stream": "stdout",
       "text": [
        "\n",
        "idx: 4500000"
       ]
      },
      {
       "output_type": "stream",
       "stream": "stdout",
       "text": [
        "\n",
        "idx: 4750000"
       ]
      },
      {
       "output_type": "stream",
       "stream": "stdout",
       "text": [
        "\n",
        "idx: 5000000"
       ]
      },
      {
       "output_type": "stream",
       "stream": "stdout",
       "text": [
        "\n",
        "250000"
       ]
      },
      {
       "output_type": "stream",
       "stream": "stdout",
       "text": [
        "\n"
       ]
      },
      {
       "output_type": "stream",
       "stream": "stdout",
       "text": [
        "500000\n"
       ]
      },
      {
       "output_type": "stream",
       "stream": "stdout",
       "text": [
        "750000\n"
       ]
      },
      {
       "output_type": "stream",
       "stream": "stdout",
       "text": [
        "1000000\n"
       ]
      },
      {
       "output_type": "stream",
       "stream": "stdout",
       "text": [
        "Inspecting comment #0\n"
       ]
      },
      {
       "output_type": "stream",
       "stream": "stdout",
       "text": [
        "Inspecting comment #250000\n"
       ]
      },
      {
       "output_type": "stream",
       "stream": "stdout",
       "text": [
        "Inspecting comment #500000\n"
       ]
      },
      {
       "output_type": "stream",
       "stream": "stdout",
       "text": [
        "Inspecting comment #750000\n"
       ]
      },
      {
       "output_type": "stream",
       "stream": "stdout",
       "text": [
        "idx: 250000\n",
        "idx: 500000"
       ]
      },
      {
       "output_type": "stream",
       "stream": "stdout",
       "text": [
        "\n",
        "idx: 750000"
       ]
      },
      {
       "output_type": "stream",
       "stream": "stdout",
       "text": [
        "\n",
        "idx: 1000000"
       ]
      },
      {
       "output_type": "stream",
       "stream": "stdout",
       "text": [
        "\n",
        "idx: 1250000"
       ]
      },
      {
       "output_type": "stream",
       "stream": "stdout",
       "text": [
        "\n",
        "idx: 1500000"
       ]
      },
      {
       "output_type": "stream",
       "stream": "stdout",
       "text": [
        "\n",
        "idx: 1750000"
       ]
      },
      {
       "output_type": "stream",
       "stream": "stdout",
       "text": [
        "\n",
        "idx: 2000000"
       ]
      },
      {
       "output_type": "stream",
       "stream": "stdout",
       "text": [
        "\n",
        "idx: 2250000"
       ]
      },
      {
       "output_type": "stream",
       "stream": "stdout",
       "text": [
        "\n",
        "idx: 2500000"
       ]
      },
      {
       "output_type": "stream",
       "stream": "stdout",
       "text": [
        "\n",
        "idx: 2750000"
       ]
      },
      {
       "output_type": "stream",
       "stream": "stdout",
       "text": [
        "\n",
        "idx: 3000000"
       ]
      },
      {
       "output_type": "stream",
       "stream": "stdout",
       "text": [
        "\n",
        "idx: 3250000"
       ]
      },
      {
       "output_type": "stream",
       "stream": "stdout",
       "text": [
        "\n",
        "idx: 3500000"
       ]
      },
      {
       "output_type": "stream",
       "stream": "stdout",
       "text": [
        "\n",
        "idx: 3750000"
       ]
      },
      {
       "output_type": "stream",
       "stream": "stdout",
       "text": [
        "\n",
        "idx: 4000000"
       ]
      },
      {
       "output_type": "stream",
       "stream": "stdout",
       "text": [
        "\n",
        "idx: 4250000"
       ]
      },
      {
       "output_type": "stream",
       "stream": "stdout",
       "text": [
        "\n",
        "idx: 4500000"
       ]
      },
      {
       "output_type": "stream",
       "stream": "stdout",
       "text": [
        "\n",
        "idx: 4750000"
       ]
      },
      {
       "output_type": "stream",
       "stream": "stdout",
       "text": [
        "\n",
        "idx: 5000000"
       ]
      },
      {
       "output_type": "stream",
       "stream": "stdout",
       "text": [
        "\n",
        "idx: 5250000"
       ]
      },
      {
       "output_type": "stream",
       "stream": "stdout",
       "text": [
        "\n",
        "idx: 5500000"
       ]
      },
      {
       "output_type": "stream",
       "stream": "stdout",
       "text": [
        "\n",
        "idx: 5750000"
       ]
      },
      {
       "output_type": "stream",
       "stream": "stdout",
       "text": [
        "\n",
        "idx: 6000000"
       ]
      },
      {
       "output_type": "stream",
       "stream": "stdout",
       "text": [
        "\n",
        "250000"
       ]
      },
      {
       "output_type": "stream",
       "stream": "stdout",
       "text": [
        "\n"
       ]
      },
      {
       "output_type": "stream",
       "stream": "stdout",
       "text": [
        "500000\n"
       ]
      },
      {
       "output_type": "stream",
       "stream": "stdout",
       "text": [
        "750000\n"
       ]
      },
      {
       "output_type": "stream",
       "stream": "stdout",
       "text": [
        "1000000\n"
       ]
      },
      {
       "output_type": "stream",
       "stream": "stdout",
       "text": [
        "Inspecting comment #0\n"
       ]
      },
      {
       "output_type": "stream",
       "stream": "stdout",
       "text": [
        "Inspecting comment #250000\n"
       ]
      },
      {
       "output_type": "stream",
       "stream": "stdout",
       "text": [
        "Inspecting comment #500000\n"
       ]
      },
      {
       "output_type": "stream",
       "stream": "stdout",
       "text": [
        "Inspecting comment #750000\n"
       ]
      },
      {
       "output_type": "stream",
       "stream": "stdout",
       "text": [
        "idx: 250000\n",
        "idx: 500000"
       ]
      },
      {
       "output_type": "stream",
       "stream": "stdout",
       "text": [
        "\n",
        "idx: 750000"
       ]
      },
      {
       "output_type": "stream",
       "stream": "stdout",
       "text": [
        "\n",
        "idx: 1000000"
       ]
      },
      {
       "output_type": "stream",
       "stream": "stdout",
       "text": [
        "\n",
        "idx: 1250000"
       ]
      },
      {
       "output_type": "stream",
       "stream": "stdout",
       "text": [
        "\n",
        "idx: 1500000"
       ]
      },
      {
       "output_type": "stream",
       "stream": "stdout",
       "text": [
        "\n",
        "idx: 1750000"
       ]
      },
      {
       "output_type": "stream",
       "stream": "stdout",
       "text": [
        "\n",
        "idx: 2000000"
       ]
      },
      {
       "output_type": "stream",
       "stream": "stdout",
       "text": [
        "\n",
        "idx: 2250000"
       ]
      },
      {
       "output_type": "stream",
       "stream": "stdout",
       "text": [
        "\n",
        "idx: 2500000"
       ]
      },
      {
       "output_type": "stream",
       "stream": "stdout",
       "text": [
        "\n",
        "idx: 2750000"
       ]
      },
      {
       "output_type": "stream",
       "stream": "stdout",
       "text": [
        "\n",
        "idx: 3000000"
       ]
      },
      {
       "output_type": "stream",
       "stream": "stdout",
       "text": [
        "\n",
        "idx: 3250000"
       ]
      },
      {
       "output_type": "stream",
       "stream": "stdout",
       "text": [
        "\n",
        "idx: 3500000"
       ]
      },
      {
       "output_type": "stream",
       "stream": "stdout",
       "text": [
        "\n",
        "idx: 3750000"
       ]
      },
      {
       "output_type": "stream",
       "stream": "stdout",
       "text": [
        "\n",
        "idx: 4000000"
       ]
      },
      {
       "output_type": "stream",
       "stream": "stdout",
       "text": [
        "\n",
        "idx: 4250000"
       ]
      },
      {
       "output_type": "stream",
       "stream": "stdout",
       "text": [
        "\n",
        "idx: 4500000"
       ]
      },
      {
       "output_type": "stream",
       "stream": "stdout",
       "text": [
        "\n",
        "idx: 4750000"
       ]
      },
      {
       "output_type": "stream",
       "stream": "stdout",
       "text": [
        "\n",
        "idx: 5000000"
       ]
      },
      {
       "output_type": "stream",
       "stream": "stdout",
       "text": [
        "\n",
        "idx: 5250000"
       ]
      },
      {
       "output_type": "stream",
       "stream": "stdout",
       "text": [
        "\n",
        "idx: 5500000"
       ]
      },
      {
       "output_type": "stream",
       "stream": "stdout",
       "text": [
        "\n",
        "idx: 5750000"
       ]
      },
      {
       "output_type": "stream",
       "stream": "stdout",
       "text": [
        "\n",
        "idx: 6000000"
       ]
      },
      {
       "output_type": "stream",
       "stream": "stdout",
       "text": [
        "\n",
        "idx: 6250000"
       ]
      },
      {
       "output_type": "stream",
       "stream": "stdout",
       "text": [
        "\n",
        "idx: 6500000"
       ]
      },
      {
       "output_type": "stream",
       "stream": "stdout",
       "text": [
        "\n",
        "idx: 6750000"
       ]
      },
      {
       "output_type": "stream",
       "stream": "stdout",
       "text": [
        "\n",
        "idx: 7000000"
       ]
      },
      {
       "output_type": "stream",
       "stream": "stdout",
       "text": [
        "\n",
        "250000"
       ]
      },
      {
       "output_type": "stream",
       "stream": "stdout",
       "text": [
        "\n"
       ]
      },
      {
       "output_type": "stream",
       "stream": "stdout",
       "text": [
        "500000\n"
       ]
      },
      {
       "output_type": "stream",
       "stream": "stdout",
       "text": [
        "750000\n"
       ]
      },
      {
       "output_type": "stream",
       "stream": "stdout",
       "text": [
        "1000000\n"
       ]
      },
      {
       "output_type": "stream",
       "stream": "stdout",
       "text": [
        "Inspecting comment #0\n"
       ]
      },
      {
       "output_type": "stream",
       "stream": "stdout",
       "text": [
        "Inspecting comment #250000\n"
       ]
      },
      {
       "output_type": "stream",
       "stream": "stdout",
       "text": [
        "Inspecting comment #500000\n"
       ]
      },
      {
       "output_type": "stream",
       "stream": "stdout",
       "text": [
        "Inspecting comment #750000\n"
       ]
      },
      {
       "output_type": "stream",
       "stream": "stdout",
       "text": [
        "idx: 250000\n",
        "idx: 500000"
       ]
      },
      {
       "output_type": "stream",
       "stream": "stdout",
       "text": [
        "\n",
        "idx: 750000"
       ]
      },
      {
       "output_type": "stream",
       "stream": "stdout",
       "text": [
        "\n",
        "idx: 1000000"
       ]
      },
      {
       "output_type": "stream",
       "stream": "stdout",
       "text": [
        "\n",
        "idx: 1250000"
       ]
      },
      {
       "output_type": "stream",
       "stream": "stdout",
       "text": [
        "\n",
        "idx: 1500000"
       ]
      },
      {
       "output_type": "stream",
       "stream": "stdout",
       "text": [
        "\n",
        "idx: 1750000"
       ]
      },
      {
       "output_type": "stream",
       "stream": "stdout",
       "text": [
        "\n",
        "idx: 2000000"
       ]
      },
      {
       "output_type": "stream",
       "stream": "stdout",
       "text": [
        "\n",
        "idx: 2250000"
       ]
      },
      {
       "output_type": "stream",
       "stream": "stdout",
       "text": [
        "\n",
        "idx: 2500000"
       ]
      },
      {
       "output_type": "stream",
       "stream": "stdout",
       "text": [
        "\n",
        "idx: 2750000"
       ]
      },
      {
       "output_type": "stream",
       "stream": "stdout",
       "text": [
        "\n",
        "idx: 3000000"
       ]
      },
      {
       "output_type": "stream",
       "stream": "stdout",
       "text": [
        "\n",
        "idx: 3250000"
       ]
      },
      {
       "output_type": "stream",
       "stream": "stdout",
       "text": [
        "\n",
        "idx: 3500000"
       ]
      },
      {
       "output_type": "stream",
       "stream": "stdout",
       "text": [
        "\n",
        "idx: 3750000"
       ]
      },
      {
       "output_type": "stream",
       "stream": "stdout",
       "text": [
        "\n",
        "idx: 4000000"
       ]
      },
      {
       "output_type": "stream",
       "stream": "stdout",
       "text": [
        "\n",
        "idx: 4250000"
       ]
      },
      {
       "output_type": "stream",
       "stream": "stdout",
       "text": [
        "\n",
        "idx: 4500000"
       ]
      },
      {
       "output_type": "stream",
       "stream": "stdout",
       "text": [
        "\n",
        "idx: 4750000"
       ]
      },
      {
       "output_type": "stream",
       "stream": "stdout",
       "text": [
        "\n",
        "idx: 5000000"
       ]
      },
      {
       "output_type": "stream",
       "stream": "stdout",
       "text": [
        "\n",
        "idx: 5250000"
       ]
      },
      {
       "output_type": "stream",
       "stream": "stdout",
       "text": [
        "\n",
        "idx: 5500000"
       ]
      },
      {
       "output_type": "stream",
       "stream": "stdout",
       "text": [
        "\n",
        "idx: 5750000"
       ]
      },
      {
       "output_type": "stream",
       "stream": "stdout",
       "text": [
        "\n",
        "idx: 6000000"
       ]
      },
      {
       "output_type": "stream",
       "stream": "stdout",
       "text": [
        "\n",
        "idx: 6250000"
       ]
      },
      {
       "output_type": "stream",
       "stream": "stdout",
       "text": [
        "\n",
        "idx: 6500000"
       ]
      },
      {
       "output_type": "stream",
       "stream": "stdout",
       "text": [
        "\n",
        "idx: 6750000"
       ]
      },
      {
       "output_type": "stream",
       "stream": "stdout",
       "text": [
        "\n",
        "idx: 7000000"
       ]
      },
      {
       "output_type": "stream",
       "stream": "stdout",
       "text": [
        "\n",
        "idx: 7250000"
       ]
      },
      {
       "output_type": "stream",
       "stream": "stdout",
       "text": [
        "\n",
        "idx: 7500000"
       ]
      },
      {
       "output_type": "stream",
       "stream": "stdout",
       "text": [
        "\n",
        "idx: 7750000"
       ]
      },
      {
       "output_type": "stream",
       "stream": "stdout",
       "text": [
        "\n",
        "idx: 8000000"
       ]
      },
      {
       "output_type": "stream",
       "stream": "stdout",
       "text": [
        "\n",
        "250000"
       ]
      },
      {
       "output_type": "stream",
       "stream": "stdout",
       "text": [
        "\n"
       ]
      },
      {
       "output_type": "stream",
       "stream": "stdout",
       "text": [
        "500000\n"
       ]
      },
      {
       "output_type": "stream",
       "stream": "stdout",
       "text": [
        "750000\n"
       ]
      },
      {
       "output_type": "stream",
       "stream": "stdout",
       "text": [
        "1000000\n"
       ]
      },
      {
       "output_type": "stream",
       "stream": "stdout",
       "text": [
        "Inspecting comment #0\n"
       ]
      },
      {
       "output_type": "stream",
       "stream": "stdout",
       "text": [
        "Inspecting comment #250000\n"
       ]
      },
      {
       "output_type": "stream",
       "stream": "stdout",
       "text": [
        "Inspecting comment #500000\n"
       ]
      },
      {
       "output_type": "stream",
       "stream": "stdout",
       "text": [
        "Inspecting comment #750000\n"
       ]
      },
      {
       "output_type": "stream",
       "stream": "stdout",
       "text": [
        "idx: 250000\n",
        "idx: 500000"
       ]
      },
      {
       "output_type": "stream",
       "stream": "stdout",
       "text": [
        "\n",
        "idx: 750000"
       ]
      },
      {
       "output_type": "stream",
       "stream": "stdout",
       "text": [
        "\n",
        "idx: 1000000"
       ]
      },
      {
       "output_type": "stream",
       "stream": "stdout",
       "text": [
        "\n",
        "idx: 1250000"
       ]
      },
      {
       "output_type": "stream",
       "stream": "stdout",
       "text": [
        "\n",
        "idx: 1500000"
       ]
      },
      {
       "output_type": "stream",
       "stream": "stdout",
       "text": [
        "\n",
        "idx: 1750000"
       ]
      },
      {
       "output_type": "stream",
       "stream": "stdout",
       "text": [
        "\n",
        "idx: 2000000"
       ]
      },
      {
       "output_type": "stream",
       "stream": "stdout",
       "text": [
        "\n",
        "idx: 2250000"
       ]
      },
      {
       "output_type": "stream",
       "stream": "stdout",
       "text": [
        "\n",
        "idx: 2500000"
       ]
      },
      {
       "output_type": "stream",
       "stream": "stdout",
       "text": [
        "\n",
        "idx: 2750000"
       ]
      },
      {
       "output_type": "stream",
       "stream": "stdout",
       "text": [
        "\n",
        "idx: 3000000"
       ]
      },
      {
       "output_type": "stream",
       "stream": "stdout",
       "text": [
        "\n",
        "idx: 3250000"
       ]
      },
      {
       "output_type": "stream",
       "stream": "stdout",
       "text": [
        "\n",
        "idx: 3500000"
       ]
      },
      {
       "output_type": "stream",
       "stream": "stdout",
       "text": [
        "\n",
        "idx: 3750000"
       ]
      },
      {
       "output_type": "stream",
       "stream": "stdout",
       "text": [
        "\n",
        "idx: 4000000"
       ]
      },
      {
       "output_type": "stream",
       "stream": "stdout",
       "text": [
        "\n",
        "idx: 4250000"
       ]
      },
      {
       "output_type": "stream",
       "stream": "stdout",
       "text": [
        "\n",
        "idx: 4500000"
       ]
      },
      {
       "output_type": "stream",
       "stream": "stdout",
       "text": [
        "\n",
        "idx: 4750000"
       ]
      },
      {
       "output_type": "stream",
       "stream": "stdout",
       "text": [
        "\n",
        "idx: 5000000"
       ]
      },
      {
       "output_type": "stream",
       "stream": "stdout",
       "text": [
        "\n",
        "idx: 5250000"
       ]
      },
      {
       "output_type": "stream",
       "stream": "stdout",
       "text": [
        "\n",
        "idx: 5500000"
       ]
      },
      {
       "output_type": "stream",
       "stream": "stdout",
       "text": [
        "\n",
        "idx: 5750000"
       ]
      },
      {
       "output_type": "stream",
       "stream": "stdout",
       "text": [
        "\n",
        "idx: 6000000"
       ]
      },
      {
       "output_type": "stream",
       "stream": "stdout",
       "text": [
        "\n",
        "idx: 6250000"
       ]
      },
      {
       "output_type": "stream",
       "stream": "stdout",
       "text": [
        "\n",
        "idx: 6500000"
       ]
      },
      {
       "output_type": "stream",
       "stream": "stdout",
       "text": [
        "\n",
        "idx: 6750000"
       ]
      },
      {
       "output_type": "stream",
       "stream": "stdout",
       "text": [
        "\n",
        "idx: 7000000"
       ]
      },
      {
       "output_type": "stream",
       "stream": "stdout",
       "text": [
        "\n",
        "idx: 7250000"
       ]
      },
      {
       "output_type": "stream",
       "stream": "stdout",
       "text": [
        "\n",
        "idx: 7500000"
       ]
      },
      {
       "output_type": "stream",
       "stream": "stdout",
       "text": [
        "\n",
        "idx: 7750000"
       ]
      },
      {
       "output_type": "stream",
       "stream": "stdout",
       "text": [
        "\n",
        "idx: 8000000"
       ]
      },
      {
       "output_type": "stream",
       "stream": "stdout",
       "text": [
        "\n",
        "idx: 8250000"
       ]
      },
      {
       "output_type": "stream",
       "stream": "stdout",
       "text": [
        "\n",
        "idx: 8500000"
       ]
      },
      {
       "output_type": "stream",
       "stream": "stdout",
       "text": [
        "\n",
        "idx: 8750000"
       ]
      },
      {
       "output_type": "stream",
       "stream": "stdout",
       "text": [
        "\n",
        "idx: 9000000"
       ]
      },
      {
       "output_type": "stream",
       "stream": "stdout",
       "text": [
        "\n",
        "250000"
       ]
      },
      {
       "output_type": "stream",
       "stream": "stdout",
       "text": [
        "\n"
       ]
      },
      {
       "output_type": "stream",
       "stream": "stdout",
       "text": [
        "500000\n"
       ]
      },
      {
       "output_type": "stream",
       "stream": "stdout",
       "text": [
        "750000\n"
       ]
      },
      {
       "output_type": "stream",
       "stream": "stdout",
       "text": [
        "1000000\n"
       ]
      },
      {
       "output_type": "stream",
       "stream": "stdout",
       "text": [
        "Inspecting comment #0\n"
       ]
      },
      {
       "output_type": "stream",
       "stream": "stdout",
       "text": [
        "Inspecting comment #250000\n"
       ]
      },
      {
       "output_type": "stream",
       "stream": "stdout",
       "text": [
        "Inspecting comment #500000\n"
       ]
      },
      {
       "output_type": "stream",
       "stream": "stdout",
       "text": [
        "Inspecting comment #750000\n"
       ]
      },
      {
       "output_type": "stream",
       "stream": "stdout",
       "text": [
        "idx: 250000\n",
        "idx: 500000"
       ]
      },
      {
       "output_type": "stream",
       "stream": "stdout",
       "text": [
        "\n",
        "idx: 750000"
       ]
      },
      {
       "output_type": "stream",
       "stream": "stdout",
       "text": [
        "\n",
        "idx: 1000000"
       ]
      },
      {
       "output_type": "stream",
       "stream": "stdout",
       "text": [
        "\n",
        "idx: 1250000"
       ]
      },
      {
       "output_type": "stream",
       "stream": "stdout",
       "text": [
        "\n",
        "idx: 1500000"
       ]
      },
      {
       "output_type": "stream",
       "stream": "stdout",
       "text": [
        "\n",
        "idx: 1750000"
       ]
      },
      {
       "output_type": "stream",
       "stream": "stdout",
       "text": [
        "\n",
        "idx: 2000000"
       ]
      },
      {
       "output_type": "stream",
       "stream": "stdout",
       "text": [
        "\n",
        "idx: 2250000"
       ]
      },
      {
       "output_type": "stream",
       "stream": "stdout",
       "text": [
        "\n",
        "idx: 2500000"
       ]
      },
      {
       "output_type": "stream",
       "stream": "stdout",
       "text": [
        "\n",
        "idx: 2750000"
       ]
      },
      {
       "output_type": "stream",
       "stream": "stdout",
       "text": [
        "\n",
        "idx: 3000000"
       ]
      },
      {
       "output_type": "stream",
       "stream": "stdout",
       "text": [
        "\n",
        "idx: 3250000"
       ]
      },
      {
       "output_type": "stream",
       "stream": "stdout",
       "text": [
        "\n",
        "idx: 3500000"
       ]
      },
      {
       "output_type": "stream",
       "stream": "stdout",
       "text": [
        "\n",
        "idx: 3750000"
       ]
      },
      {
       "output_type": "stream",
       "stream": "stdout",
       "text": [
        "\n",
        "idx: 4000000"
       ]
      },
      {
       "output_type": "stream",
       "stream": "stdout",
       "text": [
        "\n",
        "idx: 4250000"
       ]
      },
      {
       "output_type": "stream",
       "stream": "stdout",
       "text": [
        "\n",
        "idx: 4500000"
       ]
      },
      {
       "output_type": "stream",
       "stream": "stdout",
       "text": [
        "\n",
        "idx: 4750000"
       ]
      },
      {
       "output_type": "stream",
       "stream": "stdout",
       "text": [
        "\n",
        "idx: 5000000"
       ]
      },
      {
       "output_type": "stream",
       "stream": "stdout",
       "text": [
        "\n",
        "idx: 5250000"
       ]
      },
      {
       "output_type": "stream",
       "stream": "stdout",
       "text": [
        "\n",
        "idx: 5500000"
       ]
      },
      {
       "output_type": "stream",
       "stream": "stdout",
       "text": [
        "\n",
        "idx: 5750000"
       ]
      },
      {
       "output_type": "stream",
       "stream": "stdout",
       "text": [
        "\n",
        "idx: 6000000"
       ]
      },
      {
       "output_type": "stream",
       "stream": "stdout",
       "text": [
        "\n",
        "idx: 6250000"
       ]
      },
      {
       "output_type": "stream",
       "stream": "stdout",
       "text": [
        "\n",
        "idx: 6500000"
       ]
      },
      {
       "output_type": "stream",
       "stream": "stdout",
       "text": [
        "\n",
        "idx: 6750000"
       ]
      },
      {
       "output_type": "stream",
       "stream": "stdout",
       "text": [
        "\n",
        "idx: 7000000"
       ]
      },
      {
       "output_type": "stream",
       "stream": "stdout",
       "text": [
        "\n",
        "idx: 7250000"
       ]
      },
      {
       "output_type": "stream",
       "stream": "stdout",
       "text": [
        "\n",
        "idx: 7500000"
       ]
      },
      {
       "output_type": "stream",
       "stream": "stdout",
       "text": [
        "\n",
        "idx: 7750000"
       ]
      },
      {
       "output_type": "stream",
       "stream": "stdout",
       "text": [
        "\n",
        "idx: 8000000"
       ]
      },
      {
       "output_type": "stream",
       "stream": "stdout",
       "text": [
        "\n",
        "idx: 8250000"
       ]
      },
      {
       "output_type": "stream",
       "stream": "stdout",
       "text": [
        "\n",
        "idx: 8500000"
       ]
      },
      {
       "output_type": "stream",
       "stream": "stdout",
       "text": [
        "\n",
        "idx: 8750000"
       ]
      },
      {
       "output_type": "stream",
       "stream": "stdout",
       "text": [
        "\n",
        "idx: 9000000"
       ]
      },
      {
       "output_type": "stream",
       "stream": "stdout",
       "text": [
        "\n",
        "idx: 9250000"
       ]
      },
      {
       "output_type": "stream",
       "stream": "stdout",
       "text": [
        "\n",
        "idx: 9500000"
       ]
      },
      {
       "output_type": "stream",
       "stream": "stdout",
       "text": [
        "\n",
        "idx: 9750000"
       ]
      },
      {
       "output_type": "stream",
       "stream": "stdout",
       "text": [
        "\n",
        "idx: 10000000"
       ]
      },
      {
       "output_type": "stream",
       "stream": "stdout",
       "text": [
        "\n",
        "250000"
       ]
      },
      {
       "output_type": "stream",
       "stream": "stdout",
       "text": [
        "\n"
       ]
      },
      {
       "output_type": "stream",
       "stream": "stdout",
       "text": [
        "500000\n"
       ]
      },
      {
       "output_type": "stream",
       "stream": "stdout",
       "text": [
        "750000\n"
       ]
      },
      {
       "output_type": "stream",
       "stream": "stdout",
       "text": [
        "1000000\n"
       ]
      },
      {
       "output_type": "stream",
       "stream": "stdout",
       "text": [
        "Inspecting comment #0\n"
       ]
      },
      {
       "output_type": "stream",
       "stream": "stdout",
       "text": [
        "Inspecting comment #250000\n"
       ]
      },
      {
       "output_type": "stream",
       "stream": "stdout",
       "text": [
        "Inspecting comment #500000\n"
       ]
      },
      {
       "output_type": "stream",
       "stream": "stdout",
       "text": [
        "Inspecting comment #750000\n"
       ]
      },
      {
       "output_type": "stream",
       "stream": "stdout",
       "text": [
        "idx: 250000\n",
        "idx: 500000"
       ]
      },
      {
       "output_type": "stream",
       "stream": "stdout",
       "text": [
        "\n",
        "idx: 750000"
       ]
      },
      {
       "output_type": "stream",
       "stream": "stdout",
       "text": [
        "\n",
        "idx: 1000000"
       ]
      },
      {
       "output_type": "stream",
       "stream": "stdout",
       "text": [
        "\n",
        "idx: 1250000"
       ]
      },
      {
       "output_type": "stream",
       "stream": "stdout",
       "text": [
        "\n",
        "idx: 1500000"
       ]
      },
      {
       "output_type": "stream",
       "stream": "stdout",
       "text": [
        "\n",
        "idx: 1750000"
       ]
      },
      {
       "output_type": "stream",
       "stream": "stdout",
       "text": [
        "\n",
        "idx: 2000000"
       ]
      },
      {
       "output_type": "stream",
       "stream": "stdout",
       "text": [
        "\n",
        "idx: 2250000"
       ]
      },
      {
       "output_type": "stream",
       "stream": "stdout",
       "text": [
        "\n",
        "idx: 2500000"
       ]
      },
      {
       "output_type": "stream",
       "stream": "stdout",
       "text": [
        "\n",
        "idx: 2750000"
       ]
      },
      {
       "output_type": "stream",
       "stream": "stdout",
       "text": [
        "\n",
        "idx: 3000000"
       ]
      },
      {
       "output_type": "stream",
       "stream": "stdout",
       "text": [
        "\n",
        "idx: 3250000"
       ]
      },
      {
       "output_type": "stream",
       "stream": "stdout",
       "text": [
        "\n",
        "idx: 3500000"
       ]
      },
      {
       "output_type": "stream",
       "stream": "stdout",
       "text": [
        "\n",
        "idx: 3750000"
       ]
      },
      {
       "output_type": "stream",
       "stream": "stdout",
       "text": [
        "\n",
        "idx: 4000000"
       ]
      },
      {
       "output_type": "stream",
       "stream": "stdout",
       "text": [
        "\n",
        "idx: 4250000"
       ]
      },
      {
       "output_type": "stream",
       "stream": "stdout",
       "text": [
        "\n",
        "idx: 4500000"
       ]
      },
      {
       "output_type": "stream",
       "stream": "stdout",
       "text": [
        "\n",
        "idx: 4750000"
       ]
      },
      {
       "output_type": "stream",
       "stream": "stdout",
       "text": [
        "\n",
        "idx: 5000000"
       ]
      },
      {
       "output_type": "stream",
       "stream": "stdout",
       "text": [
        "\n",
        "idx: 5250000"
       ]
      },
      {
       "output_type": "stream",
       "stream": "stdout",
       "text": [
        "\n",
        "idx: 5500000"
       ]
      },
      {
       "output_type": "stream",
       "stream": "stdout",
       "text": [
        "\n",
        "idx: 5750000"
       ]
      },
      {
       "output_type": "stream",
       "stream": "stdout",
       "text": [
        "\n",
        "idx: 6000000"
       ]
      },
      {
       "output_type": "stream",
       "stream": "stdout",
       "text": [
        "\n",
        "idx: 6250000"
       ]
      },
      {
       "output_type": "stream",
       "stream": "stdout",
       "text": [
        "\n",
        "idx: 6500000"
       ]
      },
      {
       "output_type": "stream",
       "stream": "stdout",
       "text": [
        "\n",
        "idx: 6750000"
       ]
      },
      {
       "output_type": "stream",
       "stream": "stdout",
       "text": [
        "\n",
        "idx: 7000000"
       ]
      },
      {
       "output_type": "stream",
       "stream": "stdout",
       "text": [
        "\n",
        "idx: 7250000"
       ]
      },
      {
       "output_type": "stream",
       "stream": "stdout",
       "text": [
        "\n",
        "idx: 7500000"
       ]
      },
      {
       "output_type": "stream",
       "stream": "stdout",
       "text": [
        "\n",
        "idx: 7750000"
       ]
      },
      {
       "output_type": "stream",
       "stream": "stdout",
       "text": [
        "\n",
        "idx: 8000000"
       ]
      },
      {
       "output_type": "stream",
       "stream": "stdout",
       "text": [
        "\n",
        "idx: 8250000"
       ]
      },
      {
       "output_type": "stream",
       "stream": "stdout",
       "text": [
        "\n",
        "idx: 8500000"
       ]
      },
      {
       "output_type": "stream",
       "stream": "stdout",
       "text": [
        "\n",
        "idx: 8750000"
       ]
      },
      {
       "output_type": "stream",
       "stream": "stdout",
       "text": [
        "\n",
        "idx: 9000000"
       ]
      },
      {
       "output_type": "stream",
       "stream": "stdout",
       "text": [
        "\n",
        "idx: 9250000"
       ]
      },
      {
       "output_type": "stream",
       "stream": "stdout",
       "text": [
        "\n",
        "idx: 9500000"
       ]
      },
      {
       "output_type": "stream",
       "stream": "stdout",
       "text": [
        "\n",
        "idx: 9750000"
       ]
      },
      {
       "output_type": "stream",
       "stream": "stdout",
       "text": [
        "\n",
        "idx: 10000000"
       ]
      },
      {
       "output_type": "stream",
       "stream": "stdout",
       "text": [
        "\n",
        "idx: 10250000"
       ]
      },
      {
       "output_type": "stream",
       "stream": "stdout",
       "text": [
        "\n",
        "idx: 10500000"
       ]
      },
      {
       "output_type": "stream",
       "stream": "stdout",
       "text": [
        "\n",
        "idx: 10750000"
       ]
      },
      {
       "output_type": "stream",
       "stream": "stdout",
       "text": [
        "\n",
        "idx: 11000000"
       ]
      },
      {
       "output_type": "stream",
       "stream": "stdout",
       "text": [
        "\n",
        "250000"
       ]
      },
      {
       "output_type": "stream",
       "stream": "stdout",
       "text": [
        "\n"
       ]
      },
      {
       "output_type": "stream",
       "stream": "stdout",
       "text": [
        "500000\n"
       ]
      },
      {
       "output_type": "stream",
       "stream": "stdout",
       "text": [
        "750000\n"
       ]
      },
      {
       "output_type": "stream",
       "stream": "stdout",
       "text": [
        "1000000\n"
       ]
      },
      {
       "output_type": "stream",
       "stream": "stdout",
       "text": [
        "Inspecting comment #0\n"
       ]
      },
      {
       "output_type": "stream",
       "stream": "stdout",
       "text": [
        "Inspecting comment #250000\n"
       ]
      },
      {
       "output_type": "stream",
       "stream": "stdout",
       "text": [
        "Inspecting comment #500000\n"
       ]
      },
      {
       "output_type": "stream",
       "stream": "stdout",
       "text": [
        "Inspecting comment #750000\n"
       ]
      },
      {
       "output_type": "stream",
       "stream": "stdout",
       "text": [
        "idx: 250000\n",
        "idx: 500000"
       ]
      },
      {
       "output_type": "stream",
       "stream": "stdout",
       "text": [
        "\n",
        "idx: 750000"
       ]
      },
      {
       "output_type": "stream",
       "stream": "stdout",
       "text": [
        "\n",
        "idx: 1000000"
       ]
      },
      {
       "output_type": "stream",
       "stream": "stdout",
       "text": [
        "\n",
        "idx: 1250000"
       ]
      },
      {
       "output_type": "stream",
       "stream": "stdout",
       "text": [
        "\n",
        "idx: 1500000"
       ]
      },
      {
       "output_type": "stream",
       "stream": "stdout",
       "text": [
        "\n",
        "idx: 1750000"
       ]
      },
      {
       "output_type": "stream",
       "stream": "stdout",
       "text": [
        "\n",
        "idx: 2000000"
       ]
      },
      {
       "output_type": "stream",
       "stream": "stdout",
       "text": [
        "\n",
        "idx: 2250000"
       ]
      },
      {
       "output_type": "stream",
       "stream": "stdout",
       "text": [
        "\n",
        "idx: 2500000"
       ]
      },
      {
       "output_type": "stream",
       "stream": "stdout",
       "text": [
        "\n",
        "idx: 2750000"
       ]
      },
      {
       "output_type": "stream",
       "stream": "stdout",
       "text": [
        "\n",
        "idx: 3000000"
       ]
      },
      {
       "output_type": "stream",
       "stream": "stdout",
       "text": [
        "\n",
        "idx: 3250000"
       ]
      },
      {
       "output_type": "stream",
       "stream": "stdout",
       "text": [
        "\n",
        "idx: 3500000"
       ]
      },
      {
       "output_type": "stream",
       "stream": "stdout",
       "text": [
        "\n",
        "idx: 3750000"
       ]
      },
      {
       "output_type": "stream",
       "stream": "stdout",
       "text": [
        "\n",
        "idx: 4000000"
       ]
      },
      {
       "output_type": "stream",
       "stream": "stdout",
       "text": [
        "\n",
        "idx: 4250000"
       ]
      },
      {
       "output_type": "stream",
       "stream": "stdout",
       "text": [
        "\n",
        "idx: 4500000"
       ]
      },
      {
       "output_type": "stream",
       "stream": "stdout",
       "text": [
        "\n",
        "idx: 4750000"
       ]
      },
      {
       "output_type": "stream",
       "stream": "stdout",
       "text": [
        "\n",
        "idx: 5000000"
       ]
      },
      {
       "output_type": "stream",
       "stream": "stdout",
       "text": [
        "\n",
        "idx: 5250000"
       ]
      },
      {
       "output_type": "stream",
       "stream": "stdout",
       "text": [
        "\n",
        "idx: 5500000"
       ]
      },
      {
       "output_type": "stream",
       "stream": "stdout",
       "text": [
        "\n",
        "idx: 5750000"
       ]
      },
      {
       "output_type": "stream",
       "stream": "stdout",
       "text": [
        "\n",
        "idx: 6000000"
       ]
      },
      {
       "output_type": "stream",
       "stream": "stdout",
       "text": [
        "\n",
        "idx: 6250000"
       ]
      },
      {
       "output_type": "stream",
       "stream": "stdout",
       "text": [
        "\n",
        "idx: 6500000"
       ]
      },
      {
       "output_type": "stream",
       "stream": "stdout",
       "text": [
        "\n",
        "idx: 6750000"
       ]
      },
      {
       "output_type": "stream",
       "stream": "stdout",
       "text": [
        "\n",
        "idx: 7000000"
       ]
      },
      {
       "output_type": "stream",
       "stream": "stdout",
       "text": [
        "\n",
        "idx: 7250000"
       ]
      },
      {
       "output_type": "stream",
       "stream": "stdout",
       "text": [
        "\n",
        "idx: 7500000"
       ]
      },
      {
       "output_type": "stream",
       "stream": "stdout",
       "text": [
        "\n",
        "idx: 7750000"
       ]
      },
      {
       "output_type": "stream",
       "stream": "stdout",
       "text": [
        "\n",
        "idx: 8000000"
       ]
      },
      {
       "output_type": "stream",
       "stream": "stdout",
       "text": [
        "\n",
        "idx: 8250000"
       ]
      },
      {
       "output_type": "stream",
       "stream": "stdout",
       "text": [
        "\n",
        "idx: 8500000"
       ]
      },
      {
       "output_type": "stream",
       "stream": "stdout",
       "text": [
        "\n",
        "idx: 8750000"
       ]
      },
      {
       "output_type": "stream",
       "stream": "stdout",
       "text": [
        "\n",
        "idx: 9000000"
       ]
      },
      {
       "output_type": "stream",
       "stream": "stdout",
       "text": [
        "\n",
        "idx: 9250000"
       ]
      },
      {
       "output_type": "stream",
       "stream": "stdout",
       "text": [
        "\n",
        "idx: 9500000"
       ]
      },
      {
       "output_type": "stream",
       "stream": "stdout",
       "text": [
        "\n",
        "idx: 9750000"
       ]
      },
      {
       "output_type": "stream",
       "stream": "stdout",
       "text": [
        "\n",
        "idx: 10000000"
       ]
      },
      {
       "output_type": "stream",
       "stream": "stdout",
       "text": [
        "\n",
        "idx: 10250000"
       ]
      },
      {
       "output_type": "stream",
       "stream": "stdout",
       "text": [
        "\n",
        "idx: 10500000"
       ]
      },
      {
       "output_type": "stream",
       "stream": "stdout",
       "text": [
        "\n",
        "idx: 10750000"
       ]
      },
      {
       "output_type": "stream",
       "stream": "stdout",
       "text": [
        "\n",
        "idx: 11000000"
       ]
      },
      {
       "output_type": "stream",
       "stream": "stdout",
       "text": [
        "\n",
        "idx: 11250000"
       ]
      },
      {
       "output_type": "stream",
       "stream": "stdout",
       "text": [
        "\n",
        "idx: 11500000"
       ]
      },
      {
       "output_type": "stream",
       "stream": "stdout",
       "text": [
        "\n",
        "idx: 11750000"
       ]
      },
      {
       "output_type": "stream",
       "stream": "stdout",
       "text": [
        "\n",
        "idx: 12000000"
       ]
      },
      {
       "output_type": "stream",
       "stream": "stdout",
       "text": [
        "\n",
        "250000"
       ]
      },
      {
       "output_type": "stream",
       "stream": "stdout",
       "text": [
        "\n"
       ]
      },
      {
       "output_type": "stream",
       "stream": "stdout",
       "text": [
        "500000\n"
       ]
      },
      {
       "output_type": "stream",
       "stream": "stdout",
       "text": [
        "750000\n"
       ]
      },
      {
       "output_type": "stream",
       "stream": "stdout",
       "text": [
        "1000000\n"
       ]
      },
      {
       "output_type": "stream",
       "stream": "stdout",
       "text": [
        "Inspecting comment #0\n"
       ]
      },
      {
       "output_type": "stream",
       "stream": "stdout",
       "text": [
        "Inspecting comment #250000\n"
       ]
      },
      {
       "output_type": "stream",
       "stream": "stdout",
       "text": [
        "Inspecting comment #500000\n"
       ]
      },
      {
       "output_type": "stream",
       "stream": "stdout",
       "text": [
        "Inspecting comment #750000\n"
       ]
      },
      {
       "output_type": "stream",
       "stream": "stdout",
       "text": [
        "idx: 250000\n",
        "idx: 500000"
       ]
      },
      {
       "output_type": "stream",
       "stream": "stdout",
       "text": [
        "\n",
        "idx: 750000"
       ]
      },
      {
       "output_type": "stream",
       "stream": "stdout",
       "text": [
        "\n",
        "idx: 1000000"
       ]
      },
      {
       "output_type": "stream",
       "stream": "stdout",
       "text": [
        "\n",
        "idx: 1250000"
       ]
      },
      {
       "output_type": "stream",
       "stream": "stdout",
       "text": [
        "\n",
        "idx: 1500000"
       ]
      },
      {
       "output_type": "stream",
       "stream": "stdout",
       "text": [
        "\n",
        "idx: 1750000"
       ]
      },
      {
       "output_type": "stream",
       "stream": "stdout",
       "text": [
        "\n",
        "idx: 2000000"
       ]
      },
      {
       "output_type": "stream",
       "stream": "stdout",
       "text": [
        "\n",
        "idx: 2250000"
       ]
      },
      {
       "output_type": "stream",
       "stream": "stdout",
       "text": [
        "\n",
        "idx: 2500000"
       ]
      },
      {
       "output_type": "stream",
       "stream": "stdout",
       "text": [
        "\n",
        "idx: 2750000"
       ]
      },
      {
       "output_type": "stream",
       "stream": "stdout",
       "text": [
        "\n",
        "idx: 3000000"
       ]
      },
      {
       "output_type": "stream",
       "stream": "stdout",
       "text": [
        "\n",
        "idx: 3250000"
       ]
      },
      {
       "output_type": "stream",
       "stream": "stdout",
       "text": [
        "\n",
        "idx: 3500000"
       ]
      },
      {
       "output_type": "stream",
       "stream": "stdout",
       "text": [
        "\n",
        "idx: 3750000"
       ]
      },
      {
       "output_type": "stream",
       "stream": "stdout",
       "text": [
        "\n",
        "idx: 4000000"
       ]
      },
      {
       "output_type": "stream",
       "stream": "stdout",
       "text": [
        "\n",
        "idx: 4250000"
       ]
      },
      {
       "output_type": "stream",
       "stream": "stdout",
       "text": [
        "\n",
        "idx: 4500000"
       ]
      },
      {
       "output_type": "stream",
       "stream": "stdout",
       "text": [
        "\n",
        "idx: 4750000"
       ]
      },
      {
       "output_type": "stream",
       "stream": "stdout",
       "text": [
        "\n",
        "idx: 5000000"
       ]
      },
      {
       "output_type": "stream",
       "stream": "stdout",
       "text": [
        "\n",
        "idx: 5250000"
       ]
      },
      {
       "output_type": "stream",
       "stream": "stdout",
       "text": [
        "\n",
        "idx: 5500000"
       ]
      },
      {
       "output_type": "stream",
       "stream": "stdout",
       "text": [
        "\n",
        "idx: 5750000"
       ]
      },
      {
       "output_type": "stream",
       "stream": "stdout",
       "text": [
        "\n",
        "idx: 6000000"
       ]
      },
      {
       "output_type": "stream",
       "stream": "stdout",
       "text": [
        "\n",
        "idx: 6250000"
       ]
      },
      {
       "output_type": "stream",
       "stream": "stdout",
       "text": [
        "\n",
        "idx: 6500000"
       ]
      },
      {
       "output_type": "stream",
       "stream": "stdout",
       "text": [
        "\n",
        "idx: 6750000"
       ]
      },
      {
       "output_type": "stream",
       "stream": "stdout",
       "text": [
        "\n",
        "idx: 7000000"
       ]
      },
      {
       "output_type": "stream",
       "stream": "stdout",
       "text": [
        "\n",
        "idx: 7250000"
       ]
      },
      {
       "output_type": "stream",
       "stream": "stdout",
       "text": [
        "\n",
        "idx: 7500000"
       ]
      },
      {
       "output_type": "stream",
       "stream": "stdout",
       "text": [
        "\n",
        "idx: 7750000"
       ]
      },
      {
       "output_type": "stream",
       "stream": "stdout",
       "text": [
        "\n",
        "idx: 8000000"
       ]
      },
      {
       "output_type": "stream",
       "stream": "stdout",
       "text": [
        "\n",
        "idx: 8250000"
       ]
      },
      {
       "output_type": "stream",
       "stream": "stdout",
       "text": [
        "\n",
        "idx: 8500000"
       ]
      },
      {
       "output_type": "stream",
       "stream": "stdout",
       "text": [
        "\n",
        "idx: 8750000"
       ]
      },
      {
       "output_type": "stream",
       "stream": "stdout",
       "text": [
        "\n",
        "idx: 9000000"
       ]
      },
      {
       "output_type": "stream",
       "stream": "stdout",
       "text": [
        "\n",
        "idx: 9250000"
       ]
      },
      {
       "output_type": "stream",
       "stream": "stdout",
       "text": [
        "\n",
        "idx: 9500000"
       ]
      },
      {
       "output_type": "stream",
       "stream": "stdout",
       "text": [
        "\n",
        "idx: 9750000"
       ]
      },
      {
       "output_type": "stream",
       "stream": "stdout",
       "text": [
        "\n",
        "idx: 10000000"
       ]
      },
      {
       "output_type": "stream",
       "stream": "stdout",
       "text": [
        "\n",
        "idx: 10250000"
       ]
      },
      {
       "output_type": "stream",
       "stream": "stdout",
       "text": [
        "\n",
        "idx: 10500000"
       ]
      },
      {
       "output_type": "stream",
       "stream": "stdout",
       "text": [
        "\n",
        "idx: 10750000"
       ]
      },
      {
       "output_type": "stream",
       "stream": "stdout",
       "text": [
        "\n",
        "idx: 11000000"
       ]
      },
      {
       "output_type": "stream",
       "stream": "stdout",
       "text": [
        "\n",
        "idx: 11250000"
       ]
      },
      {
       "output_type": "stream",
       "stream": "stdout",
       "text": [
        "\n",
        "idx: 11500000"
       ]
      },
      {
       "output_type": "stream",
       "stream": "stdout",
       "text": [
        "\n",
        "idx: 11750000"
       ]
      },
      {
       "output_type": "stream",
       "stream": "stdout",
       "text": [
        "\n",
        "idx: 12000000"
       ]
      },
      {
       "output_type": "stream",
       "stream": "stdout",
       "text": [
        "\n",
        "idx: 12250000"
       ]
      },
      {
       "output_type": "stream",
       "stream": "stdout",
       "text": [
        "\n",
        "idx: 12500000"
       ]
      },
      {
       "output_type": "stream",
       "stream": "stdout",
       "text": [
        "\n",
        "idx: 12750000"
       ]
      },
      {
       "output_type": "stream",
       "stream": "stdout",
       "text": [
        "\n",
        "idx: 13000000"
       ]
      },
      {
       "output_type": "stream",
       "stream": "stdout",
       "text": [
        "\n",
        "250000"
       ]
      },
      {
       "output_type": "stream",
       "stream": "stdout",
       "text": [
        "\n"
       ]
      },
      {
       "output_type": "stream",
       "stream": "stdout",
       "text": [
        "500000\n"
       ]
      },
      {
       "output_type": "stream",
       "stream": "stdout",
       "text": [
        "750000\n"
       ]
      },
      {
       "output_type": "stream",
       "stream": "stdout",
       "text": [
        "1000000\n"
       ]
      },
      {
       "output_type": "stream",
       "stream": "stdout",
       "text": [
        "Inspecting comment #0\n"
       ]
      },
      {
       "output_type": "stream",
       "stream": "stdout",
       "text": [
        "Inspecting comment #250000\n"
       ]
      },
      {
       "output_type": "stream",
       "stream": "stdout",
       "text": [
        "Inspecting comment #500000\n"
       ]
      },
      {
       "output_type": "stream",
       "stream": "stdout",
       "text": [
        "Inspecting comment #750000\n"
       ]
      },
      {
       "output_type": "stream",
       "stream": "stdout",
       "text": [
        "idx: 250000\n",
        "idx: 500000"
       ]
      },
      {
       "output_type": "stream",
       "stream": "stdout",
       "text": [
        "\n",
        "idx: 750000"
       ]
      },
      {
       "output_type": "stream",
       "stream": "stdout",
       "text": [
        "\n",
        "idx: 1000000"
       ]
      },
      {
       "output_type": "stream",
       "stream": "stdout",
       "text": [
        "\n",
        "idx: 1250000"
       ]
      },
      {
       "output_type": "stream",
       "stream": "stdout",
       "text": [
        "\n",
        "idx: 1500000"
       ]
      },
      {
       "output_type": "stream",
       "stream": "stdout",
       "text": [
        "\n",
        "idx: 1750000"
       ]
      },
      {
       "output_type": "stream",
       "stream": "stdout",
       "text": [
        "\n",
        "idx: 2000000"
       ]
      },
      {
       "output_type": "stream",
       "stream": "stdout",
       "text": [
        "\n",
        "idx: 2250000"
       ]
      },
      {
       "output_type": "stream",
       "stream": "stdout",
       "text": [
        "\n",
        "idx: 2500000"
       ]
      },
      {
       "output_type": "stream",
       "stream": "stdout",
       "text": [
        "\n",
        "idx: 2750000"
       ]
      },
      {
       "output_type": "stream",
       "stream": "stdout",
       "text": [
        "\n",
        "idx: 3000000"
       ]
      },
      {
       "output_type": "stream",
       "stream": "stdout",
       "text": [
        "\n",
        "idx: 3250000"
       ]
      },
      {
       "output_type": "stream",
       "stream": "stdout",
       "text": [
        "\n",
        "idx: 3500000"
       ]
      },
      {
       "output_type": "stream",
       "stream": "stdout",
       "text": [
        "\n",
        "idx: 3750000"
       ]
      },
      {
       "output_type": "stream",
       "stream": "stdout",
       "text": [
        "\n",
        "idx: 4000000"
       ]
      },
      {
       "output_type": "stream",
       "stream": "stdout",
       "text": [
        "\n",
        "idx: 4250000"
       ]
      },
      {
       "output_type": "stream",
       "stream": "stdout",
       "text": [
        "\n",
        "idx: 4500000"
       ]
      },
      {
       "output_type": "stream",
       "stream": "stdout",
       "text": [
        "\n",
        "idx: 4750000"
       ]
      },
      {
       "output_type": "stream",
       "stream": "stdout",
       "text": [
        "\n",
        "idx: 5000000"
       ]
      },
      {
       "output_type": "stream",
       "stream": "stdout",
       "text": [
        "\n",
        "idx: 5250000"
       ]
      },
      {
       "output_type": "stream",
       "stream": "stdout",
       "text": [
        "\n",
        "idx: 5500000"
       ]
      },
      {
       "output_type": "stream",
       "stream": "stdout",
       "text": [
        "\n",
        "idx: 5750000"
       ]
      },
      {
       "output_type": "stream",
       "stream": "stdout",
       "text": [
        "\n",
        "idx: 6000000"
       ]
      },
      {
       "output_type": "stream",
       "stream": "stdout",
       "text": [
        "\n",
        "idx: 6250000"
       ]
      },
      {
       "output_type": "stream",
       "stream": "stdout",
       "text": [
        "\n",
        "idx: 6500000"
       ]
      },
      {
       "output_type": "stream",
       "stream": "stdout",
       "text": [
        "\n",
        "idx: 6750000"
       ]
      },
      {
       "output_type": "stream",
       "stream": "stdout",
       "text": [
        "\n",
        "idx: 7000000"
       ]
      },
      {
       "output_type": "stream",
       "stream": "stdout",
       "text": [
        "\n",
        "idx: 7250000"
       ]
      },
      {
       "output_type": "stream",
       "stream": "stdout",
       "text": [
        "\n",
        "idx: 7500000"
       ]
      },
      {
       "output_type": "stream",
       "stream": "stdout",
       "text": [
        "\n",
        "idx: 7750000"
       ]
      },
      {
       "output_type": "stream",
       "stream": "stdout",
       "text": [
        "\n",
        "idx: 8000000"
       ]
      },
      {
       "output_type": "stream",
       "stream": "stdout",
       "text": [
        "\n",
        "idx: 8250000"
       ]
      },
      {
       "output_type": "stream",
       "stream": "stdout",
       "text": [
        "\n",
        "idx: 8500000"
       ]
      },
      {
       "output_type": "stream",
       "stream": "stdout",
       "text": [
        "\n",
        "idx: 8750000"
       ]
      },
      {
       "output_type": "stream",
       "stream": "stdout",
       "text": [
        "\n",
        "idx: 9000000"
       ]
      },
      {
       "output_type": "stream",
       "stream": "stdout",
       "text": [
        "\n",
        "idx: 9250000"
       ]
      },
      {
       "output_type": "stream",
       "stream": "stdout",
       "text": [
        "\n",
        "idx: 9500000"
       ]
      },
      {
       "output_type": "stream",
       "stream": "stdout",
       "text": [
        "\n",
        "idx: 9750000"
       ]
      },
      {
       "output_type": "stream",
       "stream": "stdout",
       "text": [
        "\n",
        "idx: 10000000"
       ]
      },
      {
       "output_type": "stream",
       "stream": "stdout",
       "text": [
        "\n",
        "idx: 10250000"
       ]
      },
      {
       "output_type": "stream",
       "stream": "stdout",
       "text": [
        "\n",
        "idx: 10500000"
       ]
      },
      {
       "output_type": "stream",
       "stream": "stdout",
       "text": [
        "\n",
        "idx: 10750000"
       ]
      },
      {
       "output_type": "stream",
       "stream": "stdout",
       "text": [
        "\n",
        "idx: 11000000"
       ]
      },
      {
       "output_type": "stream",
       "stream": "stdout",
       "text": [
        "\n",
        "idx: 11250000"
       ]
      },
      {
       "output_type": "stream",
       "stream": "stdout",
       "text": [
        "\n",
        "idx: 11500000"
       ]
      },
      {
       "output_type": "stream",
       "stream": "stdout",
       "text": [
        "\n",
        "idx: 11750000"
       ]
      },
      {
       "output_type": "stream",
       "stream": "stdout",
       "text": [
        "\n",
        "idx: 12000000"
       ]
      },
      {
       "output_type": "stream",
       "stream": "stdout",
       "text": [
        "\n",
        "idx: 12250000"
       ]
      },
      {
       "output_type": "stream",
       "stream": "stdout",
       "text": [
        "\n",
        "idx: 12500000"
       ]
      },
      {
       "output_type": "stream",
       "stream": "stdout",
       "text": [
        "\n",
        "idx: 12750000"
       ]
      },
      {
       "output_type": "stream",
       "stream": "stdout",
       "text": [
        "\n",
        "idx: 13000000"
       ]
      },
      {
       "output_type": "stream",
       "stream": "stdout",
       "text": [
        "\n",
        "idx: 13250000"
       ]
      },
      {
       "output_type": "stream",
       "stream": "stdout",
       "text": [
        "\n",
        "idx: 13500000"
       ]
      },
      {
       "output_type": "stream",
       "stream": "stdout",
       "text": [
        "\n",
        "idx: 13750000"
       ]
      },
      {
       "output_type": "stream",
       "stream": "stdout",
       "text": [
        "\n",
        "idx: 14000000"
       ]
      },
      {
       "output_type": "stream",
       "stream": "stdout",
       "text": [
        "\n",
        "250000"
       ]
      },
      {
       "output_type": "stream",
       "stream": "stdout",
       "text": [
        "\n"
       ]
      },
      {
       "output_type": "stream",
       "stream": "stdout",
       "text": [
        "500000\n"
       ]
      },
      {
       "output_type": "stream",
       "stream": "stdout",
       "text": [
        "750000\n"
       ]
      },
      {
       "output_type": "stream",
       "stream": "stdout",
       "text": [
        "1000000\n"
       ]
      },
      {
       "output_type": "stream",
       "stream": "stdout",
       "text": [
        "Inspecting comment #0\n"
       ]
      },
      {
       "output_type": "stream",
       "stream": "stdout",
       "text": [
        "Inspecting comment #250000\n"
       ]
      },
      {
       "output_type": "stream",
       "stream": "stdout",
       "text": [
        "Inspecting comment #500000\n"
       ]
      },
      {
       "output_type": "stream",
       "stream": "stdout",
       "text": [
        "Inspecting comment #750000\n"
       ]
      }
     ],
     "prompt_number": 27
    },
    {
     "cell_type": "code",
     "collapsed": false,
     "input": [
      "# an example of how to look up bodies from the retrieved comments\n",
      "x = json.loads(open('comments_12.json').read())\n",
      "print x['email'][0]['body']"
     ],
     "language": "python",
     "metadata": {},
     "outputs": [
      {
       "output_type": "stream",
       "stream": "stdout",
       "text": [
        "Why would you send the full amount if you don't agree?  I've battled with landlords before. You usually just have to confront him.  Before you get all crazy, check the laws of your state first.  This should be very quick since landlord laws are usually very rigid.  Then know your rights, and confront him if you can.  If you can't, send him a certified letter explaining that he changed the rent, and copy the email.  At the worst, all you have to do is go to court.  Dispute or not pay the rent that you think you owe every month.  And sign a new lease if you can.  \n"
       ]
      }
     ],
     "prompt_number": 28
    },
    {
     "cell_type": "heading",
     "level": 3,
     "metadata": {},
     "source": [
      "Part 2: Identifying Users"
     ]
    },
    {
     "cell_type": "markdown",
     "metadata": {},
     "source": [
      "Now that we have collected this trove of information, we want to use it to manually identify at least 100 Reddit users. We can do this by searching through the filtered comments for keywords like \"my.\" ELABORATE!\n",
      "\n"
     ]
    },
    {
     "cell_type": "code",
     "collapsed": false,
     "input": [
      "\n"
     ],
     "language": "python",
     "metadata": {},
     "outputs": []
    },
    {
     "cell_type": "heading",
     "level": 2,
     "metadata": {},
     "source": [
      "Discussion"
     ]
    },
    {
     "cell_type": "markdown",
     "metadata": {},
     "source": [
      "Insert discussion here."
     ]
    },
    {
     "cell_type": "code",
     "collapsed": false,
     "input": [],
     "language": "python",
     "metadata": {},
     "outputs": []
    }
   ],
   "metadata": {}
  }
 ]
}